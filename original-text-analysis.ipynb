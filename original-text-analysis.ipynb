{
 "cells": [
  {
   "cell_type": "markdown",
   "metadata": {},
   "source": [
    "# Harry Potter Sentiment-Analyse\n",
    "\n",
    "In dieser Arbeit werden die Originaltexte von Harry Potter sowie verschiedener\n",
    "Fan-Fiction-Texte behandelt.\n",
    "\n",
    "Mittels einer Netzwerkanalyse werden die Beziehungen zwischen den handelnden \n",
    "Personen untersucht.\n",
    "Dabei wird die Python-Bibliothek SpaCy verwendet, um die *Named Entity\n",
    "Recognition* durchzuführen.\n",
    "\n",
    "Anschließend werden die gefundenen Namen mit Variationen davon gematcht.\n",
    "Beispielsweise werden \"Harry\" und \"Harry Potter\" nicht als eine Entity erkannt.\n",
    "\n",
    "Darauffolgend sollen die Interaktionen zwischen handelnden Personen erkannt \n",
    "werden.\n",
    "Dabei wird untersucht, ob ein Satz mehrere Figuren erwähnt.\n",
    "Mittels des BERT-Modells wird eine Sentimentanalyse durchgeführt, um das \n",
    "Sentiment der einzelnen Sätze zu untersuchen.\n",
    "\n",
    "Gibt es in dem Satz zwei handelnde Personen, dann wird der zugehörige \n",
    "Sentiment-Score auf die jeweilige Beziehung zwischen zwei Figuren addiert.\n",
    "\n",
    "Der ermittelte Graph wird visuell dargestellt.\n",
    "Dabei entsprechen die Knoten einzelnen Figuren, die Kanten den Beziehungen der \n",
    "Figuren untereinander.\n",
    "\n",
    "Knoten werden je nachdem, ob sie positiv oder negativ beschrieben werden,\n",
    "eher grün (positiv) oder rot (negativ) dargestellt.\n",
    "Die Kanten werden dicker, je mehr Interaktionen es zwischen den Figuren gibt.\n",
    "Auch diese werden je nachdem, ob es sich um positive oder negative Interaktionen\n",
    "handelt, eher grün (positiv) oder eher rot (negativ) eingefärbt.\n"
   ]
  },
  {
   "cell_type": "code",
   "execution_count": 1,
   "metadata": {},
   "outputs": [],
   "source": [
    "\n",
    "'''\n",
    "Eine Figur.\n",
    "- Name, unter der die Person referenziert wird\n",
    "- Aliase, unter der eine Person auch bekannt ist\n",
    "- einer Liste von Sätzen, in denen die Person alleine vorkommt\n",
    "- ein Sentiment Value, der aus dem Sentiment der einzelnen Sätze ermittelt wird.\n",
    "'''\n",
    "class Figure:\n",
    "\n",
    "\tname = \"\"\n",
    "\tsentences = []\n",
    "\tsentiment_value = 0\n",
    "\n",
    "\tdef __init__(self, name: str) -> None:\n",
    "\t\tself.name = name\n",
    "\t\tself.aliases = [name]"
   ]
  },
  {
   "cell_type": "code",
   "execution_count": 2,
   "metadata": {},
   "outputs": [],
   "source": [
    "from typing import List\n",
    "\n",
    "'''\n",
    "Eine Beziehung zwischen zwei oder mehr Figuren.\n",
    "- Satz, in dem zwei oder mehr Personen erwähnt werden\n",
    "- Sentiment Score, der aus dem Satz berechnet wird\n",
    "- Figuren, die in dem Satz erwähnt werden\n",
    "'''\n",
    "class Relation:\n",
    "\n",
    "\tsentence = None\n",
    "\tsentiment_score = 0\n",
    "\tfigures = List[Figure]\n",
    "\n",
    "\tdef __init__(self, sentence, sentiment_score, figures: List[Figure]) -> None:\n",
    "\t\tself.sentence = sentence\n",
    "\t\tself.sentiment_score = sentiment_score\n",
    "\t\tself.figures = figures"
   ]
  },
  {
   "cell_type": "code",
   "execution_count": 3,
   "metadata": {},
   "outputs": [],
   "source": [
    "from typing import List\n",
    "\n",
    "'''\n",
    "Eine Story, die handelnde Personen und Beziehungen zusammenfasst.\n",
    "- Name der Story\n",
    "- Figuren der Story\n",
    "- Beziehungen zwischen den Figuren\n",
    "- Ein SpaCy-Objekt, das den gesamten Text vorhält\n",
    "- Der Text ohne Front- und Backmatter\n",
    "'''\n",
    "class Story:\n",
    "\tname = \"\"\n",
    "\tfigures = {}\n",
    "\trelations = []\n",
    "\tnlp = None\n",
    "\tstripped_text = \"\"\n",
    "\n",
    "\tdef __init__(self, name, nlp, stripped_text) -> None:\n",
    "\t\tself.name = name\n",
    "\t\tself.nlp = nlp\n",
    "\t\tself.stripped_text = stripped_text\n",
    "\n",
    "\tdef add_figure(self, figure: Figure) -> None:\n",
    "\t\tself.figures[figure.name] = figure\n",
    "\n",
    "\tdef add_relation(self, relation: Relation) -> None:\n",
    "\t\tself.relations.append(relation)\n",
    "\n",
    "\tdef add_sentence_to_figure(self, name, sentence, score):\n",
    "\t\tself.figures[name].sentences.append((sentence, score))"
   ]
  },
  {
   "cell_type": "markdown",
   "metadata": {},
   "source": [
    "## Laden der Bücher oder Fan-Fictions\n",
    "\n",
    "Im Folgenden können die Texte geladen werden, auf denen die Analyse ausgeführt wird.\n",
    "Dazu müssen sich die Dateien im Unterordner `data` befinden und wie folgt heißen:\n",
    "\n",
    "|Buch|Dateiname|\n",
    "|----|---------|\n",
    "|Harry Potter und der Stein der Weisen|Harry Potter und der Stein der Weisen (German Edition).txt|\n",
    "|Harry Potter und die Kammer des Schreckens|Harry Potter und die Kammer des Schreckens (German Edition).txt|\n",
    "|Harry Potter und der Gefangene von Askaban|Harry Potter und der Gefangene von Askaban (German Edition).txt|\n",
    "|Harry Potter und der Feuerkelch|Harry Potter und der Feuerkelch (German Edition).txt|\n",
    "|Harry Potter und der Orden des Phönix|Harry Potter und der Orden des Phnix  5 (German Edition).txt|\n",
    "|Harry Potter und der Halbblutprinz|Harry Potter und der Halbblutprinz (German Edition).txt|\n",
    "|Harry Potter und die Heiligtümer des Todes|Harry Potter und die Heiligtmer des Todes (German Edition).txt|\n",
    "|Harry Potter und das verwunschene Kind|Harry Potter und das verwunschene Kind. Teil eins und zwei (Bhnenfassung) (German Edition).txt|\n",
    "|Quidditch im Wandel der Zeiten|Quidditch im Wandel der Zeiten (Hogwarts Schulbcher) (German Edition).txt|\n",
    "|Die Marchen von Beedle dem Barden|Die Marchen von Beedle dem Barden (Hogwarts Schulbcher) (German Edition).txt|\n",
    "|Hogwarts - Ein unvollständiger und unzuverlässiger Leitfaden|Hogwarts  Ein unvollstndiger und unzuverlssiger Leitfaden (Kindle Single) (Pottermore Presents) (German Edition).txt|\n",
    "|Kurzgeschichten aus Hogwarts  Heldentum, Härtefälle und hanebüchene Hobbys|Kurzgeschichten aus Hogwarts  Heldentum, Hrteflle und hanebchene Hobbys (Kindle Single) (Pottermore Presents) (German Edition).txt|\n",
    "|Kurzgeschichten aus Hogwarts  Macht, Politik und nervtötende Poltergeister|Kurzgeschichten aus Hogwarts  Macht, Politik und nervttende Poltergeister (Kindle Single) (Pottermore Presents) (German Edition).txt|\n",
    "|Phantastische Tierwesen und wo sie zu finden sind  Das Originaldrehbuch|Phantastische Tierwesen und wo sie zu finden sind  Das Originaldrehbuch (German Edition).txt|\n",
    "|Phantastische Tierwesen und wo sie zu finden sind|Phantastische Tierwesen und wo sie zu finden sind (Hogwarts Schulbcher) (German Edition).txt|\n",
    "\n",
    "|Fan-Fiction|Dateiname|\n",
    "|----|---------|\n",
    "|FF1|ff1.txt|"
   ]
  },
  {
   "cell_type": "code",
   "execution_count": 4,
   "metadata": {},
   "outputs": [
    {
     "name": "stderr",
     "output_type": "stream",
     "text": [
      "/home/panda/projects/harry-potter-sentiment/venv/lib/python3.10/site-packages/tqdm/auto.py:22: TqdmWarning: IProgress not found. Please update jupyter and ipywidgets. See https://ipywidgets.readthedocs.io/en/stable/user_install.html\n",
      "  from .autonotebook import tqdm as notebook_tqdm\n"
     ]
    }
   ],
   "source": [
    "import spacy\n",
    "\n",
    "sp = spacy.load(\"de_core_news_lg\")\n",
    "\n",
    "'''\n",
    "Eine Story laden\n",
    "Übergeben werden der Name sowie der Dateinamen einer Story\n",
    "Außerdem können zu Beginn Zeilen übersprungen werden (skip_lines), um bspw. das Frontmatter zu überspringen und\n",
    "am Ende lassen sich Zeilen abschneiden (trim_lines), um bspw. das Backmatter abzuschneiden\n",
    "'''\n",
    "def load_story(name, filename, skip_lines=0, trim_lines=0) -> Story:\n",
    "\tnlp = None\n",
    "\twith open(\"./data/\" + filename, \"r\") as f:\n",
    "\t\ttext = f.read()\n",
    "\t\ttext = \"\\n\".join(text.split(\"\\n\")[skip_lines:trim_lines])\n",
    "\t\ttext = text.replace(\"»\", \"\\\"\").replace(\"«\", \"\\\"\").replace(\"›\", \"\\\"\").replace(\"‹\", \"\\\"\").replace(\"…\", \"\")\n",
    "\t\ttext = \"\\n\".join([l.strip(\"- \\n\") for l in text.split(\"\\n\")]).replace(\"\\n\\n\", \"\\n\")\n",
    "\t\tnlp = sp(text)\n",
    "\treturn Story(name, nlp, text)"
   ]
  },
  {
   "cell_type": "code",
   "execution_count": 5,
   "metadata": {},
   "outputs": [],
   "source": [
    "# Laden der Bücher\n",
    "\n",
    "story = load_story(\"Harry Potter und der Stein der Weisen\", \"Harry Potter und der Stein der Weisen (German Edition).txt\", skip_lines=53, trim_lines=6260)\n",
    "# story = load_story(\"Harry Potter und die Kammer des Schreckens\", \"Harry Potter und die Kammer des Schreckens (German Edition).txt\")\n",
    "# story = load_story(\"Harry Potter und der Gefangene von Askaban\", \"Harry Potter und der Gefangene von Askaban (German Edition).txt\")\n",
    "# story = load_story(\"Harry Potter und der Feuerkelch\", \"Harry Potter und der Feuerkelch (German Edition).txt\")\n",
    "# story = load_story(\"Harry Potter und der Orden des Phönix\", \"Harry Potter und der Orden des Phnix  5 (German Edition).txt\")\n",
    "# story = load_story(\"Harry Potter und der Halbblutprinz\", \"Harry Potter und der Halbblutprinz (German Edition).txt\")\n",
    "# story = load_story(\"Harry Potter und die Heiligtümer des Todes\", \"Harry Potter und die Heiligtmer des Todes (German Edition).txt\")\n",
    "# story = load_story(\"Harry Potter und das verwunschene Kind\", \"Harry Potter und das verwunschene Kind. Teil eins und zwei (Bhnenfassung) (German Edition).txt\")\n",
    "# story = load_story(\"Quidditch im Wandel der Zeiten\", \"Quidditch im Wandel der Zeiten (Hogwarts Schulbcher) (German Edition).txt\")\n",
    "# story = load_story(\"Die Marchen von Beedle dem Barden\", \"Die Marchen von Beedle dem Barden (Hogwarts Schulbcher) (German Edition).txt\")\n",
    "# story = load_story(\"Hogwarts - Ein unvollständiger und unzuverlässiger Leitfaden\", \"Hogwarts  Ein unvollstndiger und unzuverlssiger Leitfaden (Kindle Single) (Pottermore Presents) (German Edition).txt\")\n",
    "# story = load_story(\"Kurzgeschichten aus Hogwarts  Heldentum, Hrteflle und hanebchene Hobbys\", \"Kurzgeschichten aus Hogwarts  Heldentum, Hrteflle und hanebchene Hobbys (Kindle Single) (Pottermore Presents) (German Edition).txt\")\n",
    "# story = load_story(\"Kurzgeschichten aus Hogwarts  Macht, Politik und nervttende Poltergeister\", \"Kurzgeschichten aus Hogwarts  Macht, Politik und nervttende Poltergeister (Kindle Single) (Pottermore Presents) (German Edition).txt\")\n",
    "# story = load_story(\"Phantastische Tierwesen und wo sie zu finden sind  Das Originaldrehbuch\", \"Phantastische Tierwesen und wo sie zu finden sind  Das Originaldrehbuch (German Edition).txt\")\n",
    "# story = load_story(\"Phantastische Tierwesen und wo sie zu finden sind\", \"Phantastische Tierwesen und wo sie zu finden sind (Hogwarts Schulbcher) (German Edition).txt\")\n",
    "\n",
    "# TODO: Fan-Fictions raussuchen"
   ]
  },
  {
   "cell_type": "markdown",
   "metadata": {},
   "source": [
    "## Charakter-Mapping erzeugen\n",
    "\n",
    "Basierend auf der [Liste von Charakteren in Übersetzungen von Harry Potter](https://harrypotter.fandom.com/de/wiki/Liste_von_Charakteren_in_%C3%9Cbersetzungen_von_Harry_Potter), die in die Datei `data/character-mapping.txt` übersetzt wurde, wird eine [SpaCy-KnowledgeBase](https://spacy.io/api/kb/) aufgebaut.\n",
    "Diese KnowledgeBase besteht aus [Candidates](https://spacy.io/api/kb/#candidate), die wiederum einen oder mehrere Aliase verwenden.\n",
    "\n",
    "Für jede Entität wird ein Entitätsvektor erzeugt.\n",
    "Da die Entität eindeutig identifiziert werden kann, wird dieser Entitätsvektor mit einer Eins für die Entität und  Nullen für alle anderen Identitäten verwendet."
   ]
  },
  {
   "cell_type": "code",
   "execution_count": 6,
   "metadata": {},
   "outputs": [],
   "source": [
    "# Charakter-KnowledgeBase erstellen\n",
    "\n",
    "from spacy.kb import KnowledgeBase\n",
    "import re\n",
    "\n",
    "entity_matcher = re.compile(\"^([^\\t].+?)( \\((.+?)\\))?$\")\n",
    "last_character = \"\"\n",
    "\n",
    "characters = {}\n",
    "\n",
    "# Character-Mapping einlesen\n",
    "with open(\"./data/character-mapping.txt\", \"r\") as f:\n",
    "\tfor line in f:\n",
    "\t\tis_entity = not line.startswith(\"\\t\")\n",
    "\t\tif is_entity:\n",
    "\t\t\tm = entity_matcher.match(line.strip())\n",
    "\t\t\tname = m.group(1)\n",
    "\t\t\ttags = [t.strip() for t in m.group(3).split(\",\")] if m.group(3) is not None else []\n",
    "\t\t\tlast_character = name\n",
    "\t\t\tcharacters[name] = {\"tags\": tags, \"aliases\": []}\n",
    "\t\telse:\n",
    "\t\t\talias = line.strip()\n",
    "\t\t\tcharacters[last_character][\"aliases\"].append(alias)\n",
    "\n",
    "num_characters = len(characters)\n",
    "vector_counter = 0\n",
    "for e in characters:\n",
    "\tchar_vector = ([0] * vector_counter) + [1] + ([0] * (num_characters - 1 - vector_counter))\n",
    "\tvector_counter += 1\n",
    "\tcharacters[e][\"vector\"] = char_vector\n",
    "\n",
    "# Knowledge-Base erzeugen\n",
    "doc = story.nlp\n",
    "vocab = doc.vocab\n",
    "stripped_text = story.stripped_text\n",
    "\n",
    "def count_occurences(name):\n",
    "\treturn stripped_text.count(name)\n",
    "\n",
    "kb = KnowledgeBase(vocab=vocab, entity_vector_length=num_characters)\n",
    "for char in characters:\n",
    "\tchar_firstname = char.split(\" \")[0]\n",
    "\tchar_freq = count_occurences(char_firstname)\n",
    "\n",
    "\tent = kb.add_entity(entity=char, freq=char_freq, entity_vector=characters[char][\"vector\"])\n",
    "\t\n",
    "\tkb.add_alias(alias=char, entities=[char], probabilities=[1])\n",
    "\tif char != char_firstname:\n",
    "\t\tkb.add_alias(alias=char_firstname, entities=[char], probabilities=[1])\n",
    "\t\n",
    "\tfor alias in characters[char][\"aliases\"]:\n",
    "\t\tkb.add_alias(alias=alias, entities=[char], probabilities=[1])"
   ]
  },
  {
   "cell_type": "code",
   "execution_count": 7,
   "metadata": {},
   "outputs": [
    {
     "name": "stdout",
     "output_type": "stream",
     "text": [
      "Suche nach \"Harry\"\n",
      "\tEntity: Harry Potter\n",
      "\tAlias : Harry\n",
      "Suche nach \"Harry Potter\"\n",
      "\tEntity: Harry Potter\n",
      "\tAlias : Harry Potter\n",
      "Suche nach \"Ron\"\n",
      "\tEntity: Ron Weasley\n",
      "\tAlias : Ron\n",
      "Suche nach \"Ron Weasley\"\n",
      "\tEntity: Ron Weasley\n",
      "\tAlias : Ron Weasley\n",
      "Suche nach \"Hermine\"\n",
      "\tEntity: Hermine Granger\n",
      "\tAlias : Hermine\n",
      "Suche nach \"Hermine Granger\"\n",
      "\tEntity: Hermine Granger\n",
      "\tAlias : Hermine Granger\n",
      "Suche nach \"Draco\"\n",
      "\tEntity: Draco Malfoy\n",
      "\tAlias : Draco\n",
      "Suche nach \"Draco Malfoy\"\n",
      "\tEntity: Draco Malfoy\n",
      "\tAlias : Draco Malfoy\n",
      "Suche nach \"Voldemort\"\n",
      "\tEntity: Lord Voldemort\n",
      "\tAlias : Voldemort\n",
      "Suche nach \"Du-weißt-schon-wer\"\n",
      "\tEntity: Lord Voldemort\n",
      "\tAlias : Du-weißt-schon-wer\n"
     ]
    }
   ],
   "source": [
    "# Teste Mapping für verschiedene Charaktere:\n",
    "\n",
    "search_characters = [\"Harry\", \"Harry Potter\", \"Ron\", \"Ron Weasley\", \"Hermine\", \"Hermine Granger\", \"Draco\", \"Draco Malfoy\", \"Voldemort\", \"Du-weißt-schon-wer\"]\n",
    "\n",
    "for sc in search_characters:\n",
    "\tprint(\"Suche nach \\\"{}\\\"\".format(sc))\n",
    "\tcandidates = kb.get_alias_candidates(sc)\n",
    "\tfor c in candidates:\n",
    "\t\tprint(\"\\tEntity:\", c.entity_)\n",
    "\t\tprint(\"\\tAlias :\", c.alias_)\n"
   ]
  },
  {
   "cell_type": "code",
   "execution_count": 8,
   "metadata": {},
   "outputs": [],
   "source": [
    "# Return an entity for a name\n",
    "def find_entity(name):\n",
    "\tent_str = str(name).strip(' .,:!?\"')\n",
    "\tcandidates = kb.get_alias_candidates(ent_str)\n",
    "\tif len(candidates) > 0:\n",
    "\t\treturn candidates[0]\n",
    "\telif ent_str.endswith(\"s\"):\n",
    "\t\t# Genitiv-S entfernen\n",
    "\t\treturn find_entity(ent_str[:-1])\n",
    "\telif \" \" in ent_str:\n",
    "\t\tcandidates = [c for c in (find_entity(w) for w in ent_str.split(\" \")) if c != None]\n",
    "\t\tif len(candidates) > 0:\n",
    "\t\t\treturn candidates[0]\n",
    "\treturn None\n"
   ]
  },
  {
   "cell_type": "markdown",
   "metadata": {},
   "source": [
    "## Figuren erzeugen\n",
    "\n",
    "Die Figuren aus der Knowledge-Base werden als Figuren in die Story überführt."
   ]
  },
  {
   "cell_type": "code",
   "execution_count": 9,
   "metadata": {},
   "outputs": [
    {
     "name": "stdout",
     "output_type": "stream",
     "text": [
      "['Winky', 'Rubeus Hagrid', 'Violet', 'Kingsley Shacklebolt', 'Lily Evans', 'Kreacher', 'Rolanda Hooch', 'Nymphadora Tonks', 'Ron Weasley', 'Terry Boot', 'Magdalene \"Magda\" Dursley', 'Sirius Black', 'Silvanus Kesselbrand', 'Norberta', 'Cadogan', 'Marcus Flint', 'Malcolm Baddock', 'Firenze', 'Viktor Krum', 'Hedwig', 'Irma Pince', 'Cuthbert Binns', 'Wilhelmina Raue-Pritsche', 'Barty Crouch sr.', 'Charity Burbage', 'Mandy Brocklehurst', 'Bill Weasley', 'Petunia Dursley', 'Harry Potter', 'Griphook', 'Emmeline Vance', 'Septima Vektor', 'Argus Filch', 'Charlie Weasley', 'Amycus Carrow', 'Colin Creevey', 'Peeves', 'Bertie Bott', 'Gabrielle Delacour', 'George Weasley', 'Mad-Eye Moody', 'Mr. Ollivander', 'Quirinus Quirrell', 'Sybill Trelawney', 'Arnold Friedlich', 'Graue Dame', 'Der Blutige Baron', 'Dudley Dursley', 'Krätze', 'R.A.B.', 'Wilbert Gimpel', 'Narzissa Malfoy', 'Luna Lovegood', 'Neville Longbottom', 'Albus Dumbledore', 'Olympe Maxime', 'Fang', 'Severus Snape', 'Mrs Norris', 'Bane', 'Archie Aymslowe', 'Rita Kimmkorn', 'Fluffy', 'Euan Abercrombie', 'Dennis Creevey', 'Fred Weasley', 'Sally-Anne Perks', 'Remus Lupin', 'Hannah Abbott', 'Amelia Bones', 'Igor Karkaroff', 'Amos Diggory', 'Bellatrix Lestrange', 'Bathsheda Babbling', 'Draco Malfoy', 'Marietta Edgecombe', 'Dean Thomas', 'Eleanor Branstone', 'Parvati Patil', 'Broderick Bode', 'Lucius Malfoy', 'Pomona Sprout', 'Penelope Clearwater', 'Poliakoff', 'Godric Gryffindor', 'Anthony Goldstein', 'Peter Pettigrew', 'Aurora Sinistra', 'Cornelius Fudge', 'Avery', 'Horace Slughorn', 'Rufus Scrimgeour', 'Helena Ravenclaw', 'Otto Bagman', 'Rowena Ravenclaw', 'Alecto Carrow', 'Ronan', 'Minerva McGonagall', 'Vernon Dursley', 'Molly Weasley', 'Ginny Weasley', 'Ludo Bagman', 'Cedric Diggory', 'Lord Voldemort', 'Magorian', 'Dobby', 'Hermine Granger', 'Flitwick', 'Krummbein', 'Aragog', 'Percy Weasley', 'Gilderoy Lockhart', 'Fetter Mönch', 'Die Fette Dame', 'Poppy Pomfrey', 'Salazar Slytherin', 'Michael Corner', 'Padma Patil', 'Dolores Umbridge', 'Seidenschnabel', 'Stewart Ackerley', 'Nicholas de Mimsy-Porpington', 'Seamus Finnigan', 'Vincent Crabbe', 'Gregory Goyle', 'Susan Bones', 'Lavender Brown', 'Helga Hufflepuff', 'Cho Chang', 'Norbert', 'Arthur Weasley', 'Fleur Delacour', 'Angelina Johnson', 'Maulende Myrte', 'Pigwidgeon', 'James Potter I', 'Knutbert Mockridge', 'Wilkie Twycross']\n"
     ]
    }
   ],
   "source": [
    "for char in kb.get_entity_strings():\n",
    "\tstory.add_figure(Figure(char))\n",
    "\n",
    "print([f for f in story.figures])"
   ]
  },
  {
   "cell_type": "markdown",
   "metadata": {},
   "source": [
    "## Sentiment Analysis\n",
    "\n",
    "In den nächsten Code-Blöcken werden zwei Aufgaben erledigt.\n",
    "\n",
    "Zum einen werden die einzelnen Charaktere analysiert, zum anderen werden auch ihre Beziehungen zueinander modelliert."
   ]
  },
  {
   "cell_type": "markdown",
   "metadata": {},
   "source": [
    "### Sentiment-Analyse einzelner Charaktere\n",
    "\n"
   ]
  },
  {
   "cell_type": "code",
   "execution_count": 10,
   "metadata": {},
   "outputs": [],
   "source": [
    "from transformers import pipeline, logging\n",
    "logging.set_verbosity_error()\n",
    "\n",
    "classifier = pipeline(task='sentiment-analysis', model=\"bert-base-german-cased\") #bert-base-german-dbmdz-cased "
   ]
  },
  {
   "cell_type": "code",
   "execution_count": 13,
   "metadata": {},
   "outputs": [
    {
     "name": "stderr",
     "output_type": "stream",
     "text": [
      "100%|██████████| 5756/5756 [03:33<00:00, 26.90it/s]\n"
     ]
    },
    {
     "name": "stderr",
     "output_type": "stream",
     "text": []
    }
   ],
   "source": [
    "import sys\n",
    "from tqdm.auto import tqdm\n",
    "\n",
    "num_sents = sum(1 for _ in (enumerate(doc.sents)))\n",
    "\n",
    "for f in story.figures:\n",
    "\tstory.figures[f].sentences = []\n",
    "\n",
    "pbar = tqdm(total=num_sents)\n",
    "for s in doc.sents:\n",
    "\tentities = set()\n",
    "\tfor e in s.ents:\n",
    "\t\tif (e.label_ == \"PER\"):\n",
    "\t\t\tentity = find_entity(e.text)\n",
    "\t\t\tif entity != None:\n",
    "\t\t\t\tentities.add(entity)\n",
    "\n",
    "\tnum_entities = len(entities)\n",
    "\tif num_entities == 0:\n",
    "\t\t# Überspringen, da keine Entität erkannt wird\n",
    "\t\ta = True\n",
    "\telif num_entities == 1:\n",
    "\t\t# figure out how to calculate sentiment for a person\n",
    "\t\tname = next(iter(entities)).entity_\n",
    "\t\tscore = classifier(s.text)[0][\"score\"]\n",
    "\t\tstory.add_sentence_to_figure(name, s.text, score)\n",
    "\t\tfile = open(\"./out/{}.csv\".format(name), \"a\")\n",
    "\t\tfile.write(str(s).strip() + \"\\t\" + str(score) + \"\\n\")\n",
    "\t\tfile.close()\n",
    "\telif num_entities >= 2:\n",
    "\t\t# figure out how to calculate sentiment for multiple people\n",
    "\t\ta = True\n",
    "\tpbar.update(1)"
   ]
  },
  {
   "cell_type": "code",
   "execution_count": 12,
   "metadata": {},
   "outputs": [
    {
     "name": "stdout",
     "output_type": "stream",
     "text": [
      "Rubeus Hagrid,149,92.52840393781662,0.6209959995826618\n",
      "Rolanda Hooch,9,5.575520992279053,0.6195023324754503\n",
      "Ron Weasley,154,93.19435912370682,0.6051581761279663\n",
      "Sirius Black,1,0.5788446068763733,0.5788446068763733\n",
      "Marcus Flint,3,1.8016930222511292,0.6005643407503763\n",
      "Firenze,1,0.5769597887992859,0.5769597887992859\n",
      "Hedwig,10,6.114540755748749,0.6114540755748749\n",
      "Irma Pince,1,0.598721444606781,0.598721444606781\n",
      "Petunia Dursley,36,22.577421963214874,0.6271506100893021\n",
      "Harry Potter,265,161.07495206594467,0.6078300077960176\n",
      "Griphook,5,3.0752639174461365,0.6150527834892273\n",
      "Argus Filch,26,15.764817893505096,0.606339149750196\n",
      "Charlie Weasley,4,2.4191972613334656,0.6047993153333664\n",
      "Peeves,13,7.884963929653168,0.6065356868963975\n",
      "Bertie Bott,3,1.7399808764457703,0.5799936254819235\n",
      "George Weasley,7,4.2893083691596985,0.6127583384513855\n",
      "Dudley Dursley,64,38.34395486116409,0.599124294705689\n",
      "Krätze,3,1.9125356078147888,0.6375118692715963\n",
      "Neville Longbottom,39,23.717630982398987,0.6081443841640766\n",
      "Albus Dumbledore,83,49.9985466003418,0.6023921277149614\n",
      "Fang,3,1.8819668889045715,0.6273222963015238\n",
      "Severus Snape,67,40.072195172309875,0.5980924652583564\n",
      "Mrs Norris,14,8.698866665363312,0.6213476189545223\n",
      "Bane,2,1.166729748249054,0.583364874124527\n",
      "Fluffy,9,5.4764363169670105,0.6084929241074456\n",
      "Fred Weasley,15,8.968677878379822,0.5979118585586548\n",
      "Hannah Abbott,1,0.5880062580108643,0.5880062580108643\n",
      "Draco Malfoy,59,35.188801765441895,0.5964203689057949\n",
      "Dean Thomas,2,1.2821165323257446,0.6410582661628723\n",
      "Parvati Patil,2,1.166155457496643,0.5830777287483215\n",
      "Cornelius Fudge,1,0.6164397597312927,0.6164397597312927\n",
      "Ronan,6,3.6858638525009155,0.614310642083486\n",
      "Minerva McGonagall,47,28.423600375652313,0.6047574548011131\n",
      "Vernon Dursley,81,51.525082647800446,0.6361121314543264\n",
      "Lord Voldemort,21,12.749886631965637,0.6071374586650303\n",
      "Hermine Granger,115,71.23485749959946,0.6194335434747779\n",
      "Flitwick,5,2.9294885396957397,0.585897707939148\n",
      "Percy Weasley,10,5.9402753710746765,0.5940275371074677\n",
      "Poppy Pomfrey,4,2.378134071826935,0.5945335179567337\n",
      "Nicholas de Mimsy-Porpington,2,1.2941510677337646,0.6470755338668823\n",
      "Seamus Finnigan,7,4.242968261241913,0.606138323034559\n",
      "Gregory Goyle,2,1.2142519354820251,0.6071259677410126\n",
      "Norbert,13,8.004787504673004,0.6157528849748465\n",
      "Angelina Johnson,3,1.8239489197731018,0.6079829732577006\n"
     ]
    },
    {
     "name": "stderr",
     "output_type": "stream",
     "text": [
      "100%|██████████| 5756/5756 [02:30<00:00, 35.96it/s]"
     ]
    }
   ],
   "source": [
    "# Berechne den Wert für den persönlichen Sentiment Score\n",
    "for f in story.figures:\n",
    "\tnum_sents = len(story.figures[f].sentences)\n",
    "\tif num_sents == 0:\n",
    "\t\tcontinue\n",
    "\tsum_sents = sum(s[1] for s in story.figures[f].sentences)\n",
    "\tstory.figures[f].sentiment_value = sum_sents / num_sents\n",
    "\tprint(\"{},{},{},{}\".format(f, num_sents, sum_sents, story.figures[f].sentiment_value))"
   ]
  },
  {
   "cell_type": "markdown",
   "metadata": {},
   "source": [
    "### Sentiment-Analyse von Beziehungen zwischen zwei Charakteren"
   ]
  }
 ],
 "metadata": {
  "kernelspec": {
   "display_name": "Python 3.10.4 ('venv': venv)",
   "language": "python",
   "name": "python3"
  },
  "language_info": {
   "codemirror_mode": {
    "name": "ipython",
    "version": 3
   },
   "file_extension": ".py",
   "mimetype": "text/x-python",
   "name": "python",
   "nbconvert_exporter": "python",
   "pygments_lexer": "ipython3",
   "version": "3.10.4"
  },
  "orig_nbformat": 4,
  "vscode": {
   "interpreter": {
    "hash": "940458763342ae655ef8bc9e47896c8a8f2ef62000304f8a7a3813a5a235bb0d"
   }
  }
 },
 "nbformat": 4,
 "nbformat_minor": 2
}
