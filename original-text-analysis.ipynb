{
 "cells": [
  {
   "cell_type": "markdown",
   "metadata": {},
   "source": [
    "# Harry Potter Sentiment-Analyse\n",
    "\n",
    "In dieser Arbeit werden die Originaltexte von Harry Potter sowie verschiedener\n",
    "Fan-Fiction-Texte behandelt.\n",
    "\n",
    "Mittels einer Netzwerkanalyse werden die Beziehungen zwischen den handelnden \n",
    "Personen untersucht.\n",
    "Dabei wird die Python-Bibliothek SpaCy verwendet, um die *Named Entity\n",
    "Recognition* durchzuführen.\n",
    "\n",
    "Anschließend werden die gefundenen Namen mit Variationen davon gematcht.\n",
    "Beispielsweise werden \"Harry\" und \"Harry Potter\" nicht als eine Entity erkannt.\n",
    "\n",
    "Darauffolgend sollen die Interaktionen zwischen handelnden Personen erkannt \n",
    "werden.\n",
    "Dabei wird untersucht, ob ein Satz mehrere Figuren erwähnt.\n",
    "Mittels des BERT-Modells wird eine Sentimentanalyse durchgeführt, um das \n",
    "Sentiment der einzelnen Sätze zu untersuchen.\n",
    "\n",
    "Gibt es in dem Satz zwei handelnde Personen, dann wird der zugehörige \n",
    "Sentiment-Score auf die jeweilige Beziehung zwischen zwei Figuren addiert.\n",
    "\n",
    "Der ermittelte Graph wird visuell dargestellt.\n",
    "Dabei entsprechen die Knoten einzelnen Figuren, die Kanten den Beziehungen der \n",
    "Figuren untereinander.\n",
    "\n",
    "Knoten werden je nachdem, ob sie positiv oder negativ beschrieben werden,\n",
    "eher grün (positiv) oder rot (negativ) dargestellt.\n",
    "Die Kanten werden dicker, je mehr Interaktionen es zwischen den Figuren gibt.\n",
    "Auch diese werden je nachdem, ob es sich um positive oder negative Interaktionen\n",
    "handelt, eher grün (positiv) oder eher rot (negativ) eingefärbt.\n"
   ]
  },
  {
   "cell_type": "code",
   "execution_count": 1,
   "metadata": {},
   "outputs": [],
   "source": [
    "\n",
    "'''\n",
    "Eine Figur.\n",
    "- Name, unter der die Person referenziert wird\n",
    "- Aliase, unter der eine Person auch bekannt ist\n",
    "- einer Liste von Sätzen, in denen die Person alleine vorkommt\n",
    "- ein Sentiment Value, der aus dem Sentiment der einzelnen Sätze ermittelt wird.\n",
    "'''\n",
    "class Figure:\n",
    "\n",
    "\tname = \"\"\n",
    "\tsentences = []\n",
    "\tsentiment_value = 0\n",
    "\trelations = {}\n",
    "\n",
    "\tdef __init__(self, name: str) -> None:\n",
    "\t\tself.name = name\n",
    "\t\tself.aliases = [name]\n",
    "\n",
    "\tdef add_relation_to_person(self, figure, sentence, label, value):\n",
    "\t\tif figure.name in self.relations:\n",
    "\t\t\tself.relations[figure.name].append((sentence, label, value))\n",
    "\t\telse:\n",
    "\t\t\tself.relations[figure.name] = [(sentence, label, value)]"
   ]
  },
  {
   "cell_type": "code",
   "execution_count": 2,
   "metadata": {},
   "outputs": [],
   "source": [
    "from typing import List\n",
    "\n",
    "'''\n",
    "Eine Beziehung zwischen zwei oder mehr Figuren.\n",
    "- Satz, in dem zwei oder mehr Personen erwähnt werden\n",
    "- Sentiment Score, der aus dem Satz berechnet wird\n",
    "- Figuren, die in dem Satz erwähnt werden\n",
    "'''\n",
    "class Relation:\n",
    "\n",
    "\tsentence = None\n",
    "\tlabel = 0\n",
    "\tscore = 0\n",
    "\tfigures = List[Figure]\n",
    "\n",
    "\tdef __init__(self, sentence, label, score, figures: List[Figure]) -> None:\n",
    "\t\tself.sentence = sentence\n",
    "\t\tself.label = label\n",
    "\t\tself.score = score\n",
    "\t\tself.figures = figures"
   ]
  },
  {
   "cell_type": "code",
   "execution_count": 3,
   "metadata": {},
   "outputs": [],
   "source": [
    "from typing import List\n",
    "\n",
    "'''\n",
    "Eine Story, die handelnde Personen und Beziehungen zusammenfasst.\n",
    "- Name der Story\n",
    "- Figuren der Story\n",
    "- Beziehungen zwischen den Figuren\n",
    "- Ein SpaCy-Objekt, das den gesamten Text vorhält\n",
    "- Der Text ohne Front- und Backmatter\n",
    "'''\n",
    "class Story:\n",
    "\tname = \"\"\n",
    "\tfigures = {}\n",
    "\trelations = []\n",
    "\tnlp = None\n",
    "\tstripped_text = \"\"\n",
    "\n",
    "\tdef __init__(self, name, nlp, stripped_text) -> None:\n",
    "\t\tself.name = name\n",
    "\t\tself.nlp = nlp\n",
    "\t\tself.stripped_text = stripped_text\n",
    "\n",
    "\tdef add_figure(self, figure: Figure) -> None:\n",
    "\t\tself.figures[figure.name] = figure\n",
    "\n",
    "\tdef add_relation(self, sentence, label, score, figures) -> None:\n",
    "\t\tself.relations.append(Relation(sentence, label, score, figures))\n",
    "\n",
    "\tdef add_sentence_to_figure(self, name, sentence, label, score) -> None:\n",
    "\t\tself.figures[name].sentences.append((sentence, label, score))"
   ]
  },
  {
   "cell_type": "markdown",
   "metadata": {},
   "source": [
    "## Laden der Bücher oder Fan-Fictions\n",
    "\n",
    "Im Folgenden können die Texte geladen werden, auf denen die Analyse ausgeführt wird.\n",
    "Dazu müssen sich die Dateien im Unterordner `data` befinden und wie folgt heißen:\n",
    "\n",
    "|**Name**|Dateiname|\n",
    "|--------|---------|\n",
    "|**Buch**|Dateiname|\n",
    "|Harry Potter und der Stein der Weisen|Harry Potter und der Stein der Weisen (German Edition).txt|\n",
    "|Harry Potter und die Kammer des Schreckens|Harry Potter und die Kammer des Schreckens (German Edition).txt|\n",
    "|Harry Potter und der Gefangene von Askaban|Harry Potter und der Gefangene von Askaban (German Edition).txt|\n",
    "|Harry Potter und der Feuerkelch|Harry Potter und der Feuerkelch (German Edition).txt|\n",
    "|Harry Potter und der Orden des Phönix|Harry Potter und der Orden des Phnix  5 (German Edition).txt|\n",
    "|Harry Potter und der Halbblutprinz|Harry Potter und der Halbblutprinz (German Edition).txt|\n",
    "|Harry Potter und die Heiligtümer des Todes|Harry Potter und die Heiligtmer des Todes (German Edition).txt|\n",
    "|Harry Potter und das verwunschene Kind|Harry Potter und das verwunschene Kind. Teil eins und zwei (Bhnenfassung) (German Edition).txt|\n",
    "|Quidditch im Wandel der Zeiten|Quidditch im Wandel der Zeiten (Hogwarts Schulbcher) (German Edition).txt|\n",
    "|Die Marchen von Beedle dem Barden|Die Marchen von Beedle dem Barden (Hogwarts Schulbcher) (German Edition).txt|\n",
    "|Hogwarts - Ein unvollständiger und unzuverlässiger Leitfaden|Hogwarts  Ein unvollstndiger und unzuverlssiger Leitfaden (Kindle Single) (Pottermore Presents) (German Edition).txt|\n",
    "|Kurzgeschichten aus Hogwarts  Heldentum, Härtefälle und hanebüchene Hobbys|Kurzgeschichten aus Hogwarts  Heldentum, Hrteflle und hanebchene Hobbys (Kindle Single) (Pottermore Presents) (German Edition).txt|\n",
    "|Kurzgeschichten aus Hogwarts  Macht, Politik und nervtötende Poltergeister|Kurzgeschichten aus Hogwarts  Macht, Politik und nervttende Poltergeister (Kindle Single) (Pottermore Presents) (German Edition).txt|\n",
    "|Phantastische Tierwesen und wo sie zu finden sind  Das Originaldrehbuch|Phantastische Tierwesen und wo sie zu finden sind  Das Originaldrehbuch (German Edition).txt|\n",
    "|Phantastische Tierwesen und wo sie zu finden sind|Phantastische Tierwesen und wo sie zu finden sind (Hogwarts Schulbcher) (German Edition).txt|\n",
    "|**Fan-Fiction**| |\n",
    "|Joannes Geheimnis|ff/Phoenixfluegel_Harry-Potter-FFs_2012_k00500052268.txt|\n",
    "|Hufflepuffgelb und Slytheringrün|ff/Vermis_Harry-Potter-FFs_2014_k00500050039.txt|"
   ]
  },
  {
   "cell_type": "code",
   "execution_count": 4,
   "metadata": {},
   "outputs": [],
   "source": [
    "import spacy\n",
    "import re\n",
    "\n",
    "sp = spacy.load(\"de_core_news_lg\")\n",
    "\n",
    "'''\n",
    "Eine Story laden\n",
    "Übergeben werden der Name sowie der Dateinamen einer Story\n",
    "Außerdem können zu Beginn Zeilen übersprungen werden (skip_lines), um bspw. das Frontmatter zu überspringen und\n",
    "am Ende lassen sich Zeilen abschneiden (trim_lines), um bspw. das Backmatter abzuschneiden\n",
    "'''\n",
    "def load_story(name, filename, skip_lines=0, trim_lines=0) -> Story:\n",
    "\tnlp = None\n",
    "\twith open(\"./data/\" + filename, \"r\") as f:\n",
    "\t\ttext = f.read()\n",
    "\t\ttext = \"\\n\".join(text.split(\"\\n\")[skip_lines:trim_lines])\n",
    "\t\ttext = text.replace(\"»\", \"\\\"\").replace(\"«\", \"\\\"\").replace(\"›\", \"\\\"\").replace(\"‹\", \"\\\"\").replace(\"…\", \"\")\n",
    "\t\ttext = \"\\n\".join([l.strip(\"- \\n\") for l in text.split(\"\\n\")]).replace(\"\\n\\n\", \"\\n\")\n",
    "\t\tnlp = sp(text)\n",
    "\treturn Story(name, nlp, text)"
   ]
  },
  {
   "cell_type": "code",
   "execution_count": 5,
   "metadata": {},
   "outputs": [],
   "source": [
    "# Laden der Bücher\n",
    "\n",
    "story = load_story(\"Harry Potter und der Stein der Weisen\", \"Harry Potter und der Stein der Weisen (German Edition).txt\", skip_lines=53, trim_lines=6260)\n",
    "# story = load_story(\"Harry Potter und die Kammer des Schreckens\", \"Harry Potter und die Kammer des Schreckens (German Edition).txt\", skip_lines=53, trim_lines=6830)\n",
    "# story = load_story(\"Harry Potter und der Gefangene von Askaban\", \"Harry Potter und der Gefangene von Askaban (German Edition).txt\", skip_lines=59, trim_lines=8940)\n",
    "# story = load_story(\"Harry Potter und der Feuerkelch\", \"Harry Potter und der Feuerkelch (German Edition).txt\", skip_lines=93, trim_lines=12913)\n",
    "# story = load_story(\"Harry Potter und der Orden des Phönix\", \"Harry Potter und der Orden des Phnix  5 (German Edition).txt\", skip_lines=91, trim_lines=18771)\n",
    "# story = load_story(\"Harry Potter und der Halbblutprinz\", \"Harry Potter und der Halbblutprinz (German Edition).txt\", skip_lines=79, trim_lines=12263)\n",
    "# story = load_story(\"Harry Potter und die Heiligtümer des Todes\", \"Harry Potter und die Heiligtmer des Todes (German Edition).txt\", skip_lines=121, trim_lines=14191)\n",
    "# story = load_story(\"Harry Potter und das verwunschene Kind\", \"Harry Potter und das verwunschene Kind. Teil eins und zwei (Bhnenfassung) (German Edition).txt\", skip_lines=132, trim_lines=7614)\n",
    "# story = load_story(\"Quidditch im Wandel der Zeiten\", \"Quidditch im Wandel der Zeiten (Hogwarts Schulbcher) (German Edition).txt\", skip_lines=80, trim_lines=636)\n",
    "# story = load_story(\"Die Marchen von Beedle dem Barden\", \"Die Marchen von Beedle dem Barden (Hogwarts Schulbcher) (German Edition).txt\", skip_lines=44, trim_lines=737)\n",
    "# story = load_story(\"Hogwarts - Ein unvollständiger und unzuverlässiger Leitfaden\", \"Hogwarts  Ein unvollstndiger und unzuverlssiger Leitfaden (Kindle Single) (Pottermore Presents) (German Edition).txt\", skip_lines=58, trim_lines=723)\n",
    "# story = load_story(\"Kurzgeschichten aus Hogwarts  Heldentum, Hrteflle und hanebchene Hobbys\", \"Kurzgeschichten aus Hogwarts  Heldentum, Hrteflle und hanebchene Hobbys (Kindle Single) (Pottermore Presents) (German Edition).txt\", skip_lines=28, trim_lines=645)\n",
    "# story = load_story(\"Kurzgeschichten aus Hogwarts  Macht, Politik und nervttende Poltergeister\", \"Kurzgeschichten aus Hogwarts  Macht, Politik und nervttende Poltergeister (Kindle Single) (Pottermore Presents) (German Edition).txt\", skip_lines=36, trim_lines=743)\n",
    "# story = load_story(\"Phantastische Tierwesen und wo sie zu finden sind  Das Originaldrehbuch\", \"Phantastische Tierwesen und wo sie zu finden sind  Das Originaldrehbuch (German Edition).txt\", skip_lines=23, trim_lines=6503)\n",
    "# story = load_story(\"Phantastische Tierwesen und wo sie zu finden sind\", \"Phantastische Tierwesen und wo sie zu finden sind (Hogwarts Schulbcher) (German Edition).txt\", skip_lines=35, trim_lines=1122)\n",
    "\n",
    "# Fan-Fictions\n",
    "# story = load_story(\"Joannes Geheimnis\", \"ff/Phoenixfluegel_Harry-Potter-FFs_2012_k00500052268.txt\", skip_lines=18, trim_lines=179)\n",
    "# story = load_story(\"Hufflepuffgelb und Slytheringrün\", \"ff/Vermis_Harry-Potter-FFs_2014_k00500050039.txt\", skip_lines=18, trim_lines=694)"
   ]
  },
  {
   "cell_type": "markdown",
   "metadata": {},
   "source": [
    "## Charakter-Mapping erzeugen\n",
    "\n",
    "Basierend auf der [Liste von Charakteren in Übersetzungen von Harry Potter](https://harrypotter.fandom.com/de/wiki/Liste_von_Charakteren_in_%C3%9Cbersetzungen_von_Harry_Potter), die in die Datei `data/character-mapping.txt` übersetzt wurde, wird eine [SpaCy-KnowledgeBase](https://spacy.io/api/kb/) aufgebaut.\n",
    "Diese KnowledgeBase besteht aus [Candidates](https://spacy.io/api/kb/#candidate), die wiederum einen oder mehrere Aliase verwenden.\n",
    "\n",
    "Für jede Entität wird ein Entitätsvektor erzeugt.\n",
    "Da die Entität eindeutig identifiziert werden kann, wird dieser Entitätsvektor mit einer Eins für die Entität und  Nullen für alle anderen Identitäten verwendet."
   ]
  },
  {
   "cell_type": "code",
   "execution_count": 6,
   "metadata": {},
   "outputs": [],
   "source": [
    "# Charakter-KnowledgeBase erstellen\n",
    "\n",
    "from spacy.kb import KnowledgeBase\n",
    "import re\n",
    "\n",
    "entity_matcher = re.compile(\"^([^\\t].+?)( \\((.+?)\\))?$\")\n",
    "last_character = \"\"\n",
    "\n",
    "characters = {}\n",
    "\n",
    "# Character-Mapping einlesen\n",
    "with open(\"./data/character-mapping.txt\", \"r\") as f:\n",
    "\tfor line in f:\n",
    "\t\tis_entity = not line.startswith(\"\\t\")\n",
    "\t\tif is_entity:\n",
    "\t\t\tm = entity_matcher.match(line.strip())\n",
    "\t\t\tname = m.group(1)\n",
    "\t\t\ttags = [t.strip() for t in m.group(3).split(\",\")] if m.group(3) is not None else []\n",
    "\t\t\tlast_character = name\n",
    "\t\t\tcharacters[name] = {\"tags\": tags, \"aliases\": []}\n",
    "\t\telse:\n",
    "\t\t\talias = line.strip()\n",
    "\t\t\tcharacters[last_character][\"aliases\"].append(alias)\n",
    "\n",
    "num_characters = len(characters)\n",
    "vector_counter = 0\n",
    "for e in characters:\n",
    "\tchar_vector = ([0] * vector_counter) + [1] + ([0] * (num_characters - 1 - vector_counter))\n",
    "\tvector_counter += 1\n",
    "\tcharacters[e][\"vector\"] = char_vector\n",
    "\n",
    "# Knowledge-Base erzeugen\n",
    "doc = story.nlp\n",
    "vocab = doc.vocab\n",
    "stripped_text = story.stripped_text\n",
    "\n",
    "def count_occurences(name):\n",
    "\treturn stripped_text.count(name)\n",
    "\n",
    "kb = KnowledgeBase(vocab=vocab, entity_vector_length=num_characters)\n",
    "for char in characters:\n",
    "\tchar_firstname = char.split(\" \")[0]\n",
    "\tchar_freq = count_occurences(char_firstname)\n",
    "\n",
    "\tent = kb.add_entity(entity=char, freq=char_freq, entity_vector=characters[char][\"vector\"])\n",
    "\t\n",
    "\tkb.add_alias(alias=char, entities=[char], probabilities=[1])\n",
    "\tif char != char_firstname:\n",
    "\t\tkb.add_alias(alias=char_firstname, entities=[char], probabilities=[1])\n",
    "\t\n",
    "\tfor alias in characters[char][\"aliases\"]:\n",
    "\t\tkb.add_alias(alias=alias, entities=[char], probabilities=[1])"
   ]
  },
  {
   "cell_type": "code",
   "execution_count": 7,
   "metadata": {},
   "outputs": [
    {
     "name": "stdout",
     "output_type": "stream",
     "text": [
      "Suche nach \"Harry\"\n",
      "\tEntity: Harry Potter\n",
      "\tAlias : Harry\n",
      "Suche nach \"Harry Potter\"\n",
      "\tEntity: Harry Potter\n",
      "\tAlias : Harry Potter\n",
      "Suche nach \"Ron\"\n",
      "\tEntity: Ron Weasley\n",
      "\tAlias : Ron\n",
      "Suche nach \"Ron Weasley\"\n",
      "\tEntity: Ron Weasley\n",
      "\tAlias : Ron Weasley\n",
      "Suche nach \"Hermine\"\n",
      "\tEntity: Hermine Granger\n",
      "\tAlias : Hermine\n",
      "Suche nach \"Hermine Granger\"\n",
      "\tEntity: Hermine Granger\n",
      "\tAlias : Hermine Granger\n",
      "Suche nach \"Draco\"\n",
      "\tEntity: Draco Malfoy\n",
      "\tAlias : Draco\n",
      "Suche nach \"Draco Malfoy\"\n",
      "\tEntity: Draco Malfoy\n",
      "\tAlias : Draco Malfoy\n",
      "Suche nach \"Voldemort\"\n",
      "\tEntity: Lord Voldemort\n",
      "\tAlias : Voldemort\n",
      "Suche nach \"Du-weißt-schon-wer\"\n",
      "\tEntity: Lord Voldemort\n",
      "\tAlias : Du-weißt-schon-wer\n"
     ]
    }
   ],
   "source": [
    "# Teste Mapping für verschiedene Charaktere:\n",
    "\n",
    "search_characters = [\"Harry\", \"Harry Potter\", \"Ron\", \"Ron Weasley\", \"Hermine\", \"Hermine Granger\", \"Draco\", \"Draco Malfoy\", \"Voldemort\", \"Du-weißt-schon-wer\"]\n",
    "\n",
    "for sc in search_characters:\n",
    "\tprint(\"Suche nach \\\"{}\\\"\".format(sc))\n",
    "\tcandidates = kb.get_alias_candidates(sc)\n",
    "\tfor c in candidates:\n",
    "\t\tprint(\"\\tEntity:\", c.entity_)\n",
    "\t\tprint(\"\\tAlias :\", c.alias_)"
   ]
  },
  {
   "cell_type": "code",
   "execution_count": 8,
   "metadata": {},
   "outputs": [],
   "source": [
    "# Return an entity for a name\n",
    "def find_entity(name):\n",
    "\tent_str = str(name).strip(' .,:!?\"')\n",
    "\tcandidates = kb.get_alias_candidates(ent_str)\n",
    "\tif len(candidates) > 0:\n",
    "\t\treturn candidates[0]\n",
    "\telif ent_str.endswith(\"s\"):\n",
    "\t\t# Genitiv-S entfernen\n",
    "\t\treturn find_entity(ent_str[:-1])\n",
    "\telif \" \" in ent_str:\n",
    "\t\tcandidates = [c for c in (find_entity(w) for w in ent_str.split(\" \")) if c != None]\n",
    "\t\tif len(candidates) > 0:\n",
    "\t\t\treturn candidates[0]\n",
    "\treturn None"
   ]
  },
  {
   "cell_type": "markdown",
   "metadata": {},
   "source": [
    "## Figuren erzeugen\n",
    "\n",
    "Die Figuren aus der Knowledge-Base werden als Figuren in die Story überführt."
   ]
  },
  {
   "cell_type": "code",
   "execution_count": 9,
   "metadata": {},
   "outputs": [
    {
     "name": "stdout",
     "output_type": "stream",
     "text": [
      "['Edward Tonks', 'Winky', 'Rubeus Hagrid', 'Violet', 'Kingsley Shacklebolt', 'Lily Evans', 'Kreacher', 'Rolanda Hooch', 'Nymphadora Tonks', 'Joanne', 'Ron Weasley', 'Terry Boot', 'Magdalene \"Magda\" Dursley', 'Sirius Black', 'Silvanus Kesselbrand', 'Norberta', 'Cadogan', 'Marcus Flint', 'Malcolm Baddock', 'Firenze', 'Viktor Krum', 'Hedwig', 'Irma Pince', 'Cuthbert Binns', 'Wilhelmina Raue-Pritsche', 'Barty Crouch sr.', 'Charity Burbage', 'Mandy Brocklehurst', 'Bill Weasley', 'Petunia Dursley', 'Harry Potter', 'Griphook', 'Emmeline Vance', 'Septima Vektor', 'Argus Filch', 'Charlie Weasley', 'Amycus Carrow', 'Colin Creevey', 'Peeves', 'Bertie Bott', 'Gabrielle Delacour', 'George Weasley', 'Mad-Eye Moody', 'Mr. Ollivander', 'Quirinus Quirrell', 'Sybill Trelawney', 'Arnold Friedlich', 'Bella', 'Ted Tonks', 'Simon Scott', 'Graue Dame', 'Der Blutige Baron', 'Dudley Dursley', 'Krätze', 'R.A.B.', 'Andromeda', 'Wilbert Gimpel', 'Narzissa Malfoy', 'Luna Lovegood', 'Neville Longbottom', 'Albus Dumbledore', 'Olympe Maxime', 'Fang', 'Severus Snape', 'Mrs Norris', 'Bane', 'Archie Aymslowe', 'Rita Kimmkorn', 'Fluffy', 'Euan Abercrombie', 'Dennis Creevey', 'Fred Weasley', 'Janis', 'Samantha Merson', 'Sally-Anne Perks', 'Remus Lupin', 'Hannah Abbott', 'Amelia Bones', 'Igor Karkaroff', 'Amos Diggory', 'Madame Pince', 'Bellatrix Lestrange', 'Bathsheda Babbling', 'Draco Malfoy', 'Marietta Edgecombe', 'Dean Thomas', 'Eleanor Branstone', 'Parvati Patil', 'Broderick Bode', 'Lucius Malfoy', 'Pomona Sprout', 'Ruby', 'Penelope Clearwater', 'Poliakoff', 'Godric Gryffindor', 'Anthony Goldstein', 'Peter Pettigrew', 'Aurora Sinistra', 'Cornelius Fudge', 'Avery', 'Horace Slughorn', 'Rufus Scrimgeour', 'Helena Ravenclaw', 'Otto Bagman', 'Rowena Ravenclaw', 'Alecto Carrow', 'Ronan', 'Sheela', 'Minerva McGonagall', 'Hugo', 'Vernon Dursley', 'Molly Weasley', 'Ginny Weasley', 'Ludo Bagman', 'Cedric Diggory', 'Lord Voldemort', 'Magorian', 'Dobby', 'Hermine Granger', 'Flitwick', 'Krummbein', 'Aragog', 'Percy Weasley', 'Gilderoy Lockhart', 'Fetter Mönch', 'Die Fette Dame', 'Poppy Pomfrey', 'Salazar Slytherin', 'Michael Corner', 'Padma Patil', 'Dolores Umbridge', 'Seidenschnabel', 'Stewart Ackerley', 'Nicholas de Mimsy-Porpington', 'Seamus Finnigan', 'Vincent Crabbe', 'Gregory Goyle', 'Susan Bones', 'Lavender Brown', 'Helga Hufflepuff', 'Cho Chang', 'Norbert', 'Arthur Weasley', 'Fleur Delacour', 'Angelina Johnson', 'Maulende Myrte', 'Pigwidgeon', 'James Potter I', 'Knutbert Mockridge', 'Wilkie Twycross']\n"
     ]
    }
   ],
   "source": [
    "for char in kb.get_entity_strings():\n",
    "\tstory.add_figure(Figure(char))\n",
    "\n",
    "print([f for f in story.figures])"
   ]
  },
  {
   "cell_type": "markdown",
   "metadata": {},
   "source": [
    "## Sentiment Analysis\n",
    "\n",
    "In den nächsten Code-Blöcken werden zwei Aufgaben erledigt.\n",
    "\n",
    "Zum einen werden die einzelnen Charaktere analysiert, zum anderen werden auch ihre Beziehungen zueinander untersucht.\n",
    "\n",
    "Dazu wird für jeden Satz im Korpus untersucht, wie viele Personen namentlich genannt werden.\n",
    "Anschließend werden Sätze, in denen nur eine handelnde Person existiert, als solche behandelt, die den Charakter beschreiben.\n",
    "\n",
    "Sätze, in denen mehr als eine Person namentlich benannt wird, wird als eine Relation zwischen zwei Charakteren behandelt.\n",
    "Je positiver das Sentiment, desto besser ist die Beziehung zwischen den Charakteren.\n",
    "\n",
    "Eine kurze Gegenüberstellung verschiedener Modelle soll dabei helfen, zu verstehen, warum die Wahl auf das Modell `nlptown/bert-base-multilingual-uncased-sentiment` gefallen ist.\n",
    "\n",
    "Vier Modelle sind in die engere Auswahl gelangt:\n",
    "\n",
    "1. [`nlptown/bert-base-multilingual-uncased-sentiment` (\"NLPTown\")](https://huggingface.co/nlptown/bert-base-multilingual-uncased-sentiment)\n",
    "2. [`oliverguhr/german-sentiment-bert` (\"German Sentiment\")](https://huggingface.co/oliverguhr/german-sentiment-bert)\n",
    "3. [`bert-base-german-cased` (\"BERT\")](https://huggingface.co/bert-base-german-cased)\n",
    "4. [`dbmdz/bert-base-german-cased` (\"BERT DBMDZ\")](https://huggingface.co/dbmdz/bert-base-german-cased)\n",
    "\n",
    "Alle Modelle basieren auf dem \"Bidirectional Encoder Representations from Transformers\" (BERT), das von Google entwickelt wurde.\n",
    "\n",
    "Das erste Modell verzichten auf eine Unterteilung in positive und negative Sentiments, sondern kategorisiert Sätze und Texte in fünf Kategorien, wobei die erste Kategorie einem Stern entspricht, die fünfte entsprechend fünf Sternen.\n",
    "Das Modell selbst wurde zum Großteil auf Produkt-Reviews trainiert und kann Texte in den Sprachen Englisch, Niederländisch, Deutsch, Französisch, Italienisch und Spanisch kategorisieren.\n",
    "\n",
    "Das zweite Modell unterteilt immerhin noch in drei Kategorien: \"positiv\", \"neutral\" und \"negativ\".\n",
    "Wie aus der untenstehenden Tabelle ersichtlich wird, sind viele Sätze jedoch mit einer hohen Sicherheit (>0.9999) neutral.\n",
    "Vermutlich, weil das Modell keine klaren Anzeichen findet, dass ein Satz positiv oder negativ ist, wie sie beispielsweise in Hotel-Reviews vorkommen, die unter Anderem zum Training des Modells verwendet wurden.\n",
    "\n",
    "Das dritte und vierte Modell wurden auf der deutschsprachigen Wikipedia, Gesetzestexten, Urteilen und Nachrichten trainiert, verfolgen jedoch andere Ziele.\n",
    "Sie können Sätze vervollständigen, indem man einen Platzhalter in einen Teilsatz einfügt.\n",
    "Diese Modelle sind für eine Sentiment-Analyse nicht geeignet, da sie wie in der Tabelle ersichtlich keine klaren Ausschläge in die eine oder andere Richtung liefern und sich im Vergleich zu den anderen Modellen eher neutral verhalten.\n",
    "In Sätzen, in denen von Tod und Schreien die Rede ist, ist es also verwunderlich, dass ein Satz als \"positiv\" ausgewertet wird.\n",
    "\n",
    "| Beispielsatz | NLPTown (Sicherheit) | German Sentiment (Sicherheit) | BERT (Sicherheit) | BERT DBMDZ (Sicherheit) |\n",
    "|--------------------------------------------------------------------------|---|---|---|---|\n",
    "| \"Was ist passiert?\", fragte Harry drängend. | 1 Stern (0,3360) | \"neutral\" (0,6648) | negativ, \"Label 1\" (0,5529) | negativ, \"Label 1\" (0,5870) |\n",
    "| Harry bemerkte, dass ihm der Mund offen stand, und klappte ihn rasch zu. | 4 Sterne (0,3144) | \"neutral\" (1) | positiv, \"Label 0\" (0,5217) | negativ, \"Label 1\" (0,5723) |\n",
    "| \"Sei kein Dummkopf\", schnarrte das Gesicht. | 1 Stern (0,6204) | \"neutral\" (0,9971) | negativ, \"Label 1\" (0,5082) | negativ, \"Label 1\" (0,5008) |\n",
    "| Kalte, feuchte Luft rauschte an ihm vorbei, und er fiel immer weiter, weiter und – | 5 Sterne (0,358) | \"neutral\" (1) | positiv, \"Label 0\" (0,5304) | negativ, \"Label 1\" (0,5912) |\n",
    "| Er lehnte sich gegen die Holztür und sah hoch zum Schloss, dessen Fenster in der untergehenden Sonne rot aufleuchteten. | 3 Sterne (0,3629) | \"neutral\" (1) | positiv, \"Label 0\" (0,6261) | negativ, \"Label 1\" (0,692) |\n",
    "| Quirrell schrie und versuchte Harry abzuschütteln – der Schmerz in Harrys Kopf wurde immer heftiger – er konnte nichts mehr sehen – er konnte nur Quirrells schreckliche Schreie und Voldemorts Rufe hören: »TÖTE IHN! TÖTE IHN!« – und auch andere Stimmen, vielleicht in seinem Kopf, die riefen: »Harry! Harry!« | 1 Stern (0,4122) | \"negativ\" (0,7652) | positiv, \"Label 0\" (0,527) | positiv, \"Label 0\" (0,5507) |\n",
    "\n",
    "Die Auswahl fällt daher auf das Modell von NLPTown: `nlptown/bert-base-multilingual-uncased-sentiment`\n"
   ]
  },
  {
   "cell_type": "code",
   "execution_count": 10,
   "metadata": {},
   "outputs": [],
   "source": [
    "model = \"nlptown/bert-base-multilingual-uncased-sentiment\"\n",
    "\n",
    "from transformers import pipeline, logging\n",
    "logging.set_verbosity_error()\n",
    "\n",
    "classifier = pipeline(task='sentiment-analysis', model=model)"
   ]
  },
  {
   "cell_type": "code",
   "execution_count": 11,
   "metadata": {},
   "outputs": [
    {
     "name": "stdout",
     "output_type": "stream",
     "text": [
      "(5, 0.652941882610321)\n"
     ]
    }
   ],
   "source": [
    "# Definition einer Funktion zur Klassifikation eines Satzes und der Ausgabe des wahrscheinlichsten Labels und des Scores\n",
    "def get_star_rating(sentence):\n",
    "\tif not sentence:\n",
    "\t\treturn 0, 0\n",
    "\tresult = classifier(sentence)\n",
    "\tif not len(result):\n",
    "\t\treturn 0, 0\n",
    "\tstars = int(result[0][\"label\"][0:1])\n",
    "\tp = result[0][\"score\"]\n",
    "\treturn stars, p\n",
    "\n",
    "print(get_star_rating(\"Hallo Welt!\"))"
   ]
  },
  {
   "cell_type": "markdown",
   "metadata": {},
   "source": [
    "### Sentiment-Analyse\n",
    "\n",
    "Im folgenden Abschnitt wird der Text mithilfe des Klassifikators analysiert.\n",
    "Für alle Sätze wird die Anzahl der handelnden Charaktere ermittelt und anhand der Knowledge Base aufgelöst.\n",
    "\n",
    "Anschließend wird der Sentiment-Score ermittelt und je nachdem, wie viele handelnde Personen ermittelt wurden, wird der Satz zur weiteren Behandlung entweder an die Figur übergeben oder als Relation in der Story gespeichert, um später damit weiterzuarbeiten.\n"
   ]
  },
  {
   "cell_type": "code",
   "execution_count": 12,
   "metadata": {},
   "outputs": [
    {
     "name": "stdout",
     "output_type": "stream",
     "text": [
      "atemraubend schön\n",
      "megagut\n",
      "Muggelstämmige\n",
      "Zufrieden?\n",
      "Ruby\n",
      "grinsend.\n",
      "Scott\n",
      "Tonks\n",
      "Sternenkarte.“\n",
      "\n",
      "Venus.“\n",
      "\n",
      "Merkur\n",
      "Mars\n",
      "Venus\n",
      "Venus\n",
      "Gryffindor\n",
      "Andromeda.\n",
      "\n",
      "Muggelgeborener\n",
      "Andromeda\n",
      "hoch\n",
      "Narzissas\n",
      "Schulter\n",
      "Autsch!\n",
      "Ted\n",
      "zuckte\n",
      "Autsch.\n",
      "Besseres\n",
      "McGonnagall\n",
      "Ernst?\n",
      "Scott\n",
      "Scott\n",
      "Sc-Simon\n",
      "Scott\n",
      "Scott\n",
      "Hoffentlich\n",
      "Scott\n",
      "Fußvolks.\n",
      "\n",
      "Scott\n",
      "Huch?\n",
      "Halloweenüberraschung.\n",
      "Muggel\n"
     ]
    }
   ],
   "source": [
    "for f in story.figures:\n",
    "\tstory.figures[f].sentences = []\n",
    "\t\n",
    "for s in doc.sents:\n",
    "\tentities = set()\n",
    "\tfor e in s.ents:\n",
    "\t\tif (e.label_ == \"PER\"):\n",
    "\t\t\tentity = find_entity(e.text)\n",
    "\t\t\tif entity != None:\n",
    "\t\t\t\tentities.add(entity)\n",
    "\t\t\telse:\n",
    "\t\t\t\tprint(e.text)\n",
    "\n",
    "\tnum_entities = len(entities)\n",
    "\tlabel, score = get_star_rating(s.text)\n",
    "\tif num_entities == 1:\n",
    "\t\tname = next(iter(entities)).entity_\n",
    "\t\tstory.add_sentence_to_figure(name, s.text, label, score)\n",
    "\telif num_entities >= 2:\n",
    "\t\tstory.add_relation(s.text, label, score, entities)"
   ]
  },
  {
   "cell_type": "markdown",
   "metadata": {},
   "source": [
    "#### Sentiments einer Person\n",
    "\n",
    "Um den Sentiment-Score einer Person zu ermitteln, werden die Anzahl der Sätze und die Summer derer Scores ermittelt, aufsummiert und der Durchschnitt gebildet."
   ]
  },
  {
   "cell_type": "code",
   "execution_count": 13,
   "metadata": {},
   "outputs": [
    {
     "name": "stdout",
     "output_type": "stream",
     "text": [
      "Edward Tonks,10,26,2.6\n",
      "Bella,3,11,3.6666666666666665\n",
      "Ted Tonks,41,103,2.5121951219512195\n",
      "Simon Scott,3,11,3.6666666666666665\n",
      "Andromeda,65,164,2.523076923076923\n",
      "Narzissa Malfoy,4,7,1.75\n",
      "Samantha Merson,37,100,2.7027027027027026\n",
      "Madame Pince,1,2,2.0\n",
      "Ruby,10,29,2.9\n",
      "Minimal score: 0\n",
      "Maximal score: 3.6666666666666665\n"
     ]
    }
   ],
   "source": [
    "# Berechne den Wert für den Sentiment Score eines Charakters\n",
    "for f in story.figures:\n",
    "\tnum_sents = len(story.figures[f].sentences)\n",
    "\tif num_sents == 0:\n",
    "\t\tcontinue\n",
    "\tsum_sents = sum(s[1] for s in story.figures[f].sentences)\n",
    "\tstory.figures[f].sentiment_value = sum_sents / num_sents\n",
    "\tprint(f\"{f},{num_sents},{sum_sents},{story.figures[f].sentiment_value}\")\n",
    "\n",
    "min_score, max_score = min([story.figures[f].sentiment_value for f in story.figures]), max([story.figures[f].sentiment_value for f in story.figures])\n",
    "print(f\"Minimal score: {min_score}\")\n",
    "print(f\"Maximal score: {max_score}\")"
   ]
  },
  {
   "cell_type": "markdown",
   "metadata": {},
   "source": [
    "#### Statistik\n",
    "\n",
    "Das Modell kategorisiert den Text nach fünf Kategorien - 1 bis 5 Sterne, wobei 1 für ein negatives Sentiment und 5 für ein positives Sentiment steht.\n",
    "Um zu veranschaulichen, wie sicher sich das Modell für einzelne Charaktere ist, lässt sich diese Statistik für einzelne Charaktere analysieren:"
   ]
  },
  {
   "cell_type": "code",
   "execution_count": 14,
   "metadata": {},
   "outputs": [
    {
     "data": {
      "text/html": [
       "<div>\n",
       "<style scoped>\n",
       "    .dataframe tbody tr th:only-of-type {\n",
       "        vertical-align: middle;\n",
       "    }\n",
       "\n",
       "    .dataframe tbody tr th {\n",
       "        vertical-align: top;\n",
       "    }\n",
       "\n",
       "    .dataframe thead th {\n",
       "        text-align: right;\n",
       "    }\n",
       "</style>\n",
       "<table border=\"1\" class=\"dataframe\">\n",
       "  <thead>\n",
       "    <tr style=\"text-align: right;\">\n",
       "      <th></th>\n",
       "      <th></th>\n",
       "      <th>sentence</th>\n",
       "      <th>score</th>\n",
       "    </tr>\n",
       "    <tr>\n",
       "      <th>label</th>\n",
       "      <th>score</th>\n",
       "      <th></th>\n",
       "      <th></th>\n",
       "    </tr>\n",
       "  </thead>\n",
       "  <tbody>\n",
       "  </tbody>\n",
       "</table>\n",
       "</div>"
      ],
      "text/plain": [
       "Empty DataFrame\n",
       "Columns: [sentence, score]\n",
       "Index: []"
      ]
     },
     "execution_count": 14,
     "metadata": {},
     "output_type": "execute_result"
    }
   ],
   "source": [
    "# Stellt die Anzahl der Sätze pro Label, gruppiert nach Zuverlässigkeit (score) dar.\n",
    "charname = \"Harry Potter\"\n",
    "score_bins = [0, 0.3, 0.6, 1]\n",
    "\n",
    "import pandas as pd\n",
    "from pandas import DataFrame\n",
    "df = DataFrame(story.figures[charname].sentences, columns=[\"sentence\", \"label\", \"score\"])\n",
    "df.groupby([\"label\", pd.cut(df.score, score_bins)]).count()"
   ]
  },
  {
   "cell_type": "markdown",
   "metadata": {},
   "source": [
    "#### Ergebnis\n",
    "\n",
    "Das verwendete Modell kann die Charaktere nicht sinnvoll charakterisieren.\n",
    "Sätze wie \"Es heißt, er habe versucht, Potters Sohn Harry zu töten.\" oder \"Sie hatte ein strenges Gesicht, und Harrys erster Gedanke war, dass mit ihr wohl nicht gut Kirschen essen wäre.\" erhalten ein Label von vier Sternen, wobei der erste Satz subjektiv gesehen eher negativ und der zweite wohl eher neutral bis negativ ist.\n",
    "\n",
    "Die Annahme, dass Protagonisten wie Harry Potter, Ron Weasly oder Hermine Granger eher positiv dastehen und Antagonisten wie Lord Voldemort eher negativ, lässt sich für den ersten Band von Harry Potter nicht bestätigen.\n",
    "Allerdings hat Voldemort auch nur 21 Sätze, in denen er die alleinstehend genannt wird, sodass man hier auch sagen muss, dass ein Vergleich in diesem Kontext nicht sinnvoll möglich ist, zumal eine Vielzahl von Sätzen mit hoher Konfidenz auch objektiv falsch bewertet wurde."
   ]
  },
  {
   "cell_type": "code",
   "execution_count": 15,
   "metadata": {},
   "outputs": [
    {
     "name": "stdout",
     "output_type": "stream",
     "text": [
      "Sentiment Score Harry Potter: 0\n",
      "Sentence Count Harry Potter: 0\n",
      "Sentiment Score Ron Weasley: 0\n",
      "Sentence Count Ron Weasley: 0\n",
      "Sentiment Score Hermine Granger: 0\n",
      "Sentence Count Hermine Granger: 0\n",
      "Sentiment Score Lord Voldemort: 0\n",
      "Sentence Count Lord Voldemort: 0\n"
     ]
    }
   ],
   "source": [
    "characters = [\"Harry Potter\", \"Ron Weasley\", \"Hermine Granger\", \"Lord Voldemort\"]\n",
    "\n",
    "for c in characters:\n",
    "\tsentiment = story.figures[c].sentiment_value\n",
    "\tsentence_count = len(story.figures[c].sentences)\n",
    "\tprint(f\"Sentiment Score {c}: {sentiment}\")\n",
    "\tprint(f\"Sentence Count {c}: {sentence_count}\")"
   ]
  },
  {
   "cell_type": "markdown",
   "metadata": {},
   "source": [
    "### Sentiment-Analyse von Beziehungen zwischen zwei Charakteren"
   ]
  },
  {
   "cell_type": "code",
   "execution_count": 16,
   "metadata": {},
   "outputs": [
    {
     "name": "stdout",
     "output_type": "stream",
     "text": [
      "Samantha Merson -> Ted Tonks\n",
      "Ted Tonks -> Samantha Merson\n",
      "Samantha Merson -> Ted Tonks\n",
      "Ted Tonks -> Samantha Merson\n",
      "Ted Tonks -> Samantha Merson\n",
      "Samantha Merson -> Ted Tonks\n",
      "Ted Tonks -> Andromeda\n",
      "Andromeda -> Ted Tonks\n",
      "Ruby -> Ted Tonks\n",
      "Ruby -> Andromeda\n",
      "Ruby -> Edward Tonks\n",
      "Ted Tonks -> Ruby\n",
      "Ted Tonks -> Andromeda\n",
      "Ted Tonks -> Edward Tonks\n",
      "Andromeda -> Ruby\n",
      "Andromeda -> Ted Tonks\n",
      "Andromeda -> Edward Tonks\n",
      "Edward Tonks -> Ruby\n",
      "Edward Tonks -> Ted Tonks\n",
      "Edward Tonks -> Andromeda\n",
      "Ruby -> Andromeda\n",
      "Andromeda -> Ruby\n",
      "Ruby -> Andromeda\n",
      "Andromeda -> Ruby\n",
      "Samantha Merson -> Ted Tonks\n",
      "Ted Tonks -> Samantha Merson\n",
      "Andromeda -> Ted Tonks\n",
      "Andromeda -> Samantha Merson\n",
      "Ted Tonks -> Andromeda\n",
      "Ted Tonks -> Samantha Merson\n",
      "Samantha Merson -> Andromeda\n",
      "Samantha Merson -> Ted Tonks\n",
      "Ted Tonks -> Samantha Merson\n",
      "Samantha Merson -> Ted Tonks\n",
      "Narzissa Malfoy -> Andromeda\n",
      "Andromeda -> Narzissa Malfoy\n",
      "Lucius Malfoy -> Andromeda\n",
      "Andromeda -> Lucius Malfoy\n",
      "Ted Tonks -> Andromeda\n",
      "Andromeda -> Ted Tonks\n",
      "Andromeda -> Samantha Merson\n",
      "Samantha Merson -> Andromeda\n",
      "Andromeda -> Samantha Merson\n",
      "Samantha Merson -> Andromeda\n",
      "Ted Tonks -> Andromeda\n",
      "Andromeda -> Ted Tonks\n",
      "Ruby -> Andromeda\n",
      "Andromeda -> Ruby\n",
      "Andromeda -> Ruby\n",
      "Ruby -> Andromeda\n",
      "Andromeda -> Ted Tonks\n",
      "Ted Tonks -> Andromeda\n",
      "Andromeda -> Edward Tonks\n",
      "Edward Tonks -> Andromeda\n",
      "Simon Scott -> Ted Tonks\n",
      "Ted Tonks -> Simon Scott\n",
      "Ted Tonks -> Simon Scott\n",
      "Ted Tonks -> Samantha Merson\n",
      "Simon Scott -> Ted Tonks\n",
      "Simon Scott -> Samantha Merson\n",
      "Samantha Merson -> Ted Tonks\n",
      "Samantha Merson -> Simon Scott\n"
     ]
    }
   ],
   "source": [
    "for f in story.figures:\n",
    "\tstory.figures[f].relations = {}\n",
    "\n",
    "for r in story.relations:\n",
    "\t# print(r.sentence)\n",
    "\t# print(r.label, r.score)\n",
    "\tfor f in r.figures:\n",
    "\t\tfor f2 in r.figures:\n",
    "\t\t\tif f == f2:\n",
    "\t\t\t\tcontinue\n",
    "\n",
    "\t\t\tfig = story.figures[f.entity_]\n",
    "\t\t\tfig2 = story.figures[f2.entity_]\n",
    "\t\t\tfig.add_relation_to_person(fig2, r.sentence, r.label, r.score)\n",
    "\t\t\tprint(f\"{fig.name} -> {fig2.name}\")\n",
    "\t"
   ]
  },
  {
   "cell_type": "markdown",
   "metadata": {},
   "source": [
    "## Graph-Darstellung der Beziehungen unter den Charakteren\n",
    "\n",
    "Um die Charaktere nun in einen Graphen zu überführen, wird zuerst eine Funktion definiert, die einen Sentiment-Score in einen RGB-Farbwert überführt.\n",
    "\n",
    "Anschließend wird der Graph initialisiert und für jede Figur, die mit anderen Figuren mindestens eine Relation hat, ein Knotenpunkt hinzugefügt.\n",
    "Obwohl der Graph nicht gerichtet ist, werden dennoch die Kanten bidirektional hinzugefügt, da die eigens entwickelte Datenstruktur die Relationen in beide Richtungen vorhält.\n",
    "\n",
    "Im selben Schritt werden auch Liniendicke und Farbe bestimmt:\n",
    "\n",
    "- Je mehr Verbindungen es zwischen zwei handelnden Charakteren gibt, desto dicker wird die Linie dargestellt.\n",
    "- Je besser (schlechter) die Beziehungen zwischen zwei handelnden Charakteren sind, desto grüner (roter) wird die Linie dargestellt."
   ]
  },
  {
   "cell_type": "code",
   "execution_count": 17,
   "metadata": {},
   "outputs": [
    {
     "name": "stdout",
     "output_type": "stream",
     "text": [
      "1 #cc3300\n",
      "1.5 #b24c00\n",
      "2 #996600\n",
      "2.5 #7f7f00\n",
      "3 #669900\n",
      "3.5 #4cb200\n",
      "4 #33cc00\n",
      "4.5 #19e500\n",
      "5 #00ff00\n"
     ]
    }
   ],
   "source": [
    "def get_color_for_sentiment(sent):\n",
    "\tr = int(255 * ((5-sent) / 5))\n",
    "\tg = int(255 * (sent / 5))\n",
    "\treturn f\"#{r:02x}{g:02x}00\"\n",
    "\n",
    "for x in [1, 1.5, 2, 2.5, 3, 3.5, 4, 4.5, 5]:\n",
    "\tprint(x, get_color_for_sentiment(x))"
   ]
  },
  {
   "cell_type": "code",
   "execution_count": 18,
   "metadata": {},
   "outputs": [
    {
     "data": {
      "image/png": "[encoded data removed]",
      "text/plain": [
       "<Figure size 640x480 with 1 Axes>"
      ]
     },
     "metadata": {},
     "output_type": "display_data"
    }
   ],
   "source": [
    "import networkx as nx\n",
    "import matplotlib.pyplot as plt\n",
    "from networkx.drawing.nx_agraph import graphviz_layout\n",
    "import math\n",
    "\n",
    "g = nx.Graph(directed=False)\n",
    "for f in story.figures:\n",
    "\tif not story.figures[f].relations:\n",
    "\t\tcontinue\n",
    "\tg.add_node(f, size=50, font_size=10)\n",
    "\n",
    "edge_colors = []\n",
    "edge_widths = []\n",
    "\n",
    "for f1 in story.figures:\n",
    "\tif story.figures[f1].relations:\n",
    "\t\tfor f2 in story.figures:\n",
    "\t\t\tif f1 == f2:\n",
    "\t\t\t\tcontinue\n",
    "\t\t\tif f2 in story.figures[f1].relations and story.figures[f1].relations[f2]:\n",
    "\t\t\t\ts = sum([r[1] for r in story.figures[f1].relations[f2]])\n",
    "\t\t\t\tl = len(story.figures[f1].relations[f2])\n",
    "\t\t\t\t# print(f\"{f1} -> {f2} {s} {l} {s/l}\")\n",
    "\t\t\t\tg.add_edge(f1, f2)\n",
    "\t\t\t\tedge_colors.append(get_color_for_sentiment(s/l))\n",
    "\t\t\t\tedge_widths.append(s / 30)\n",
    "\n",
    "\n",
    "char_colors = [get_color_for_sentiment(story.figures[f].sentiment_value) for f in story.figures if story.figures[f].relations]\n",
    "char_size = [len(story.figures[f1].sentences) * 2 for f1 in story.figures if story.figures[f1].relations]\n",
    "\n",
    "nx.draw(g,\n",
    "\twith_labels=True,\n",
    "\tpos=graphviz_layout(\n",
    "\t\tg,\n",
    "\t\tprog=\"dot\"\n",
    "\t),\n",
    "\tnodelist=[f1 for f1 in story.figures if story.figures[f1].relations],\n",
    "\tfont_size=6,\n",
    "\tnode_color=char_colors,\n",
    "\tnode_size=char_size,\n",
    "\tedge_color=edge_colors,\n",
    "\twidth=edge_widths,\n",
    ")\n",
    "plt.draw()\n",
    "plt.show()"
   ]
  },
  {
   "cell_type": "markdown",
   "metadata": {},
   "source": [
    "## Ergebnisse\n",
    "\n",
    "Diese Arbeit zeigt zum Einen, dass verschiedene NLP-Modelle noch nicht imstande sind, deutschsprachige literarische Texte sinnvoll zu bewerten.\n",
    "Die bisherigen Modelle verwenden ungeeignete Ausgangsdaten wie eine (zumeist neutral) gehaltene Wikipedia, Gesetzestexte oder wie im Falle des verwendeten NLPTown-Modells Hotelbewertungen.\n",
    "\n",
    "Daher sind die resultierenden Graphen nicht so aussagekräftig, wie man sie sich wünschen würde - es gibt nur wenige wirklich negativ bewertete Sätze und damit auch Charaktere.\n",
    "\n",
    "Allerdings liefert eine Analyse der Beziehungen einzelner Charaktere ein interessantes und wesentlich aussagekräftigeres Bild.\n",
    "Anhand von einem Netzwerkgraphen kann man erkennen, welche Figuren oft miteinander interagieren und in einigen Fällen lassen sich auch verschiedene Interaktions-Sentiments erkennen."
   ]
  },
  {
   "cell_type": "markdown",
   "metadata": {},
   "source": [
    "## Ausblick\n",
    "\n",
    "Will man diese Ergebnisse aussagekräftiger gestalten, so müssen die Modelle mit sinnvolleren Korpora befüllt und trainiert werden.\n",
    "Andernfalls werden literarische Texte nicht sinnvoll mittels NLP-Tools untersucht werden können.\n",
    "\n",
    "Anhand verschiedener Textsorten (Originalwerk und Fan-Fiction) kann man beim Betrachten des Netzwerkgraphen allerdings erkennen, um welches Werk es sich handelt:\n",
    "\n",
    "![Netzwerkgraph \"Harry Potter und der Stein der Weisen\"](./img/hp1.png)\n",
    "\n",
    "![Netzwerkgraph \"Hufflepuffgelb und Slytheringrün\"](./img/ff.png)\n",
    "\n",
    "Die Originaltexte haben ein engeres Geflecht an Verbindungen zwischen den Charakteren, Fan Fictions konzentrieren sich hingegen auf weniger Charaktere."
   ]
  }
 ],
 "metadata": {
  "kernelspec": {
   "display_name": "Python 3.10.6 ('harry-potter-sentiment': venv)",
   "language": "python",
   "name": "python3"
  },
  "language_info": {
   "codemirror_mode": {
    "name": "ipython",
    "version": 3
   },
   "file_extension": ".py",
   "mimetype": "text/x-python",
   "name": "python",
   "nbconvert_exporter": "python",
   "pygments_lexer": "ipython3",
   "version": "3.10.6"
  },
  "orig_nbformat": 4,
  "vscode": {
   "interpreter": {
    "hash": "16c53a33719ff22c2bec008acb77bbd55be625e16fd6153a57572ac3899a079a"
   }
  }
 },
 "nbformat": 4,
 "nbformat_minor": 2
}
