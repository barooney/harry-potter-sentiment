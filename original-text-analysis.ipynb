{
 "cells": [
  {
   "cell_type": "markdown",
   "metadata": {},
   "source": [
    "# Harry Potter Sentiment-Analyse\n",
    "\n",
    "In dieser Arbeit werden die Originaltexte von Harry Potter sowie verschiedener\n",
    "Fan-Fiction-Texte behandelt.\n",
    "\n",
    "Mittels einer Netzwerkanalyse werden die Beziehungen zwischen den handelnden \n",
    "Personen untersucht.\n",
    "Dabei wird die Python-Bibliothek SpaCy verwendet, um die *Named Entity\n",
    "Recognition* durchzuführen.\n",
    "\n",
    "Anschließend werden die gefundenen Namen mit Variationen davon gematcht.\n",
    "Beispielsweise werden \"Harry\" und \"Harry Potter\" nicht als eine Entity erkannt.\n",
    "\n",
    "Darauffolgend sollen die Interaktionen zwischen handelnden Personen erkannt \n",
    "werden.\n",
    "Dabei wird untersucht, ob ein Satz mehrere Figuren erwähnt.\n",
    "Mittels des BERT-Modells wird eine Sentimentanalyse durchgeführt, um das \n",
    "Sentiment der einzelnen Sätze zu untersuchen.\n",
    "\n",
    "Gibt es in dem Satz zwei handelnde Personen, dann wird der zugehörige \n",
    "Sentiment-Score auf die jeweilige Beziehung zwischen zwei Figuren addiert.\n",
    "\n",
    "Der ermittelte Graph wird visuell dargestellt.\n",
    "Dabei entsprechen die Knoten einzelnen Figuren, die Kanten den Beziehungen der \n",
    "Figuren untereinander.\n",
    "\n",
    "Knoten werden je nachdem, ob sie positiv oder negativ beschrieben werden,\n",
    "eher grün (positiv) oder rot (negativ) dargestellt.\n",
    "Die Kanten werden dicker, je mehr Interaktionen es zwischen den Figuren gibt.\n",
    "Auch diese werden je nachdem, ob es sich um positive oder negative Interaktionen\n",
    "handelt, eher grün (positiv) oder eher rot (negativ) eingefärbt.\n"
   ]
  },
  {
   "cell_type": "code",
   "execution_count": 1,
   "metadata": {},
   "outputs": [],
   "source": [
    "\n",
    "'''\n",
    "Eine Figur.\n",
    "- Name, unter der die Person referenziert wird\n",
    "- Aliase, unter der eine Person auch bekannt ist\n",
    "- einer Liste von Sätzen, in denen die Person alleine vorkommt\n",
    "- ein Sentiment Value, der aus dem Sentiment der einzelnen Sätze ermittelt wird.\n",
    "'''\n",
    "class Figure:\n",
    "\n",
    "\tname = \"\"\n",
    "\taliases = []\n",
    "\tsentences = []\n",
    "\tsentiment_value = 0\n",
    "\n",
    "\tdef __init__(self, name: str) -> None:\n",
    "\t\tself.name = name\n",
    "\t\tself.aliases = [name]\n",
    "\n",
    "\tdef add_name(self, name) -> None:\n",
    "\t\tself.aliases.append(name)"
   ]
  },
  {
   "cell_type": "code",
   "execution_count": 2,
   "metadata": {},
   "outputs": [],
   "source": [
    "from typing import List\n",
    "\n",
    "'''\n",
    "Eine Beziehung zwischen zwei oder mehr Figuren.\n",
    "- Satz, in dem zwei oder mehr Personen erwähnt werden\n",
    "- Sentiment Score, der aus dem Satz berechnet wird\n",
    "- Figuren, die in dem Satz erwähnt werden\n",
    "'''\n",
    "class Relation:\n",
    "\n",
    "\tsentence = None\n",
    "\tsentiment_score = 0\n",
    "\tfigures = []\n",
    "\n",
    "\tdef __init__(self, sentence, sentiment_score, figures: List[Figure]) -> None:\n",
    "\t\tself.sentence = sentence\n",
    "\t\tself.sentiment_score = sentiment_score\n",
    "\t\tself.figures = figures"
   ]
  },
  {
   "cell_type": "code",
   "execution_count": 3,
   "metadata": {},
   "outputs": [],
   "source": [
    "from curses import nl\n",
    "from typing import List\n",
    "\n",
    "'''\n",
    "Eine Story, die handelnde Personen und Beziehungen zusammenfasst.\n",
    "- Name der Story\n",
    "- Figuren der Story\n",
    "- Beziehungen zwischen den Figuren\n",
    "- Ein SpaCy-Objekt, das den gesamten Text vorhält\n",
    "'''\n",
    "class Story:\n",
    "\tname = \"\"\n",
    "\tfigures = []\n",
    "\trelations = []\n",
    "\tnlp = None\n",
    "\n",
    "\tdef __init__(self, name, nlp) -> None:\n",
    "\t\tself.name = name\n",
    "\t\tself.nlp = nlp\n",
    "\n",
    "\n",
    "\tdef find_figure_by_name(self, name):\n",
    "\t\tfor f in self.figures:\n",
    "\t\t\tif name in f.aliases:\n",
    "\t\t\t\treturn f\n",
    "\t\treturn None"
   ]
  },
  {
   "cell_type": "markdown",
   "metadata": {},
   "source": [
    "## Laden der Bücher oder Fan-Fictions\n",
    "\n",
    "Im Folgenden können die Texte geladen werden, auf denen die Analyse ausgeführt wird.\n",
    "Dazu müssen sich die Dateien im Unterordner `data` befinden und wie folgt heißen:\n",
    "\n",
    "|Buch|Dateiname|\n",
    "|----|---------|\n",
    "|Harry Potter und der Stein der Weisen|Harry Potter und der Stein der Weisen (German Edition).txt|\n",
    "|Harry Potter und die Kammer des Schreckens|Harry Potter und die Kammer des Schreckens (German Edition).txt|\n",
    "|Harry Potter und der Gefangene von Askaban|Harry Potter und der Gefangene von Askaban (German Edition).txt|\n",
    "|Harry Potter und der Feuerkelch|Harry Potter und der Feuerkelch (German Edition).txt|\n",
    "|Harry Potter und der Orden des Phönix|Harry Potter und der Orden des Phnix  5 (German Edition).txt|\n",
    "|Harry Potter und der Halbblutprinz|Harry Potter und der Halbblutprinz (German Edition).txt|\n",
    "|Harry Potter und die Heiligtümer des Todes|Harry Potter und die Heiligtmer des Todes (German Edition).txt|\n",
    "|Harry Potter und das verwunschene Kind|Harry Potter und das verwunschene Kind. Teil eins und zwei (Bhnenfassung) (German Edition).txt|\n",
    "|Quidditch im Wandel der Zeiten|Quidditch im Wandel der Zeiten (Hogwarts Schulbcher) (German Edition).txt|\n",
    "|Die Marchen von Beedle dem Barden|Die Marchen von Beedle dem Barden (Hogwarts Schulbcher) (German Edition).txt|\n",
    "|Hogwarts - Ein unvollständiger und unzuverlässiger Leitfaden|Hogwarts  Ein unvollstndiger und unzuverlssiger Leitfaden (Kindle Single) (Pottermore Presents) (German Edition).txt|\n",
    "|Kurzgeschichten aus Hogwarts  Heldentum, Hrteflle und hanebchene Hobbys|Kurzgeschichten aus Hogwarts  Heldentum, Hrteflle und hanebchene Hobbys (Kindle Single) (Pottermore Presents) (German Edition).txt|\n",
    "|Kurzgeschichten aus Hogwarts  Macht, Politik und nervttende Poltergeister|Kurzgeschichten aus Hogwarts  Macht, Politik und nervttende Poltergeister (Kindle Single) (Pottermore Presents) (German Edition).txt|\n",
    "|Phantastische Tierwesen und wo sie zu finden sind  Das Originaldrehbuch|Phantastische Tierwesen und wo sie zu finden sind  Das Originaldrehbuch (German Edition).txt|\n",
    "|Phantastische Tierwesen und wo sie zu finden sind|Phantastische Tierwesen und wo sie zu finden sind (Hogwarts Schulbcher) (German Edition).txt|\n",
    "\n",
    "|Fan-Fiction|Dateiname|\n",
    "|----|---------|\n",
    "|FF1|ff1.txt|"
   ]
  },
  {
   "cell_type": "code",
   "execution_count": 4,
   "metadata": {},
   "outputs": [],
   "source": [
    "import spacy\n",
    "\n",
    "def load_story(name, filename) -> Story:\n",
    "\tsp = spacy.load(\"de_dep_news_trf\")\n",
    "\tnlp = None\n",
    "\twith open(\"./data/\" + filename, \"r\") as f:\n",
    "\t\tnlp = sp(f.read())\n",
    "\treturn Story(name, nlp)"
   ]
  },
  {
   "cell_type": "code",
   "execution_count": 5,
   "metadata": {},
   "outputs": [
    {
     "name": "stderr",
     "output_type": "stream",
     "text": [
      "/Users/daniel/projects/harry-potter-sentiment/lib/python3.10/site-packages/torch/amp/autocast_mode.py:198: UserWarning: User provided device_type of 'cuda', but CUDA is not available. Disabling\n",
      "  warnings.warn('User provided device_type of \\'cuda\\', but CUDA is not available. Disabling')\n"
     ]
    }
   ],
   "source": [
    "# Laden der Bücher\n",
    "\n",
    "story = load_story(\"Harry Potter und der Stein der Weisen\", \"Harry Potter und der Stein der Weisen (German Edition).txt\")\n",
    "# story = load_story(\"Harry Potter und die Kammer des Schreckens\", \"Harry Potter und die Kammer des Schreckens (German Edition).txt\")\n",
    "# story = load_story(\"Harry Potter und der Gefangene von Askaban\", \"Harry Potter und der Gefangene von Askaban (German Edition).txt\")\n",
    "# story = load_story(\"Harry Potter und der Feuerkelch\", \"Harry Potter und der Feuerkelch (German Edition).txt\")\n",
    "# story = load_story(\"Harry Potter und der Orden des Phönix\", \"Harry Potter und der Orden des Phnix  5 (German Edition).txt\")\n",
    "# story = load_story(\"Harry Potter und der Halbblutprinz\", \"Harry Potter und der Halbblutprinz (German Edition).txt\")\n",
    "# story = load_story(\"Harry Potter und die Heiligtümer des Todes\", \"Harry Potter und die Heiligtmer des Todes (German Edition).txt\")\n",
    "# story = load_story(\"Harry Potter und das verwunschene Kind\", \"Harry Potter und das verwunschene Kind. Teil eins und zwei (Bhnenfassung) (German Edition).txt\")\n",
    "# story = load_story(\"Quidditch im Wandel der Zeiten\", \"Quidditch im Wandel der Zeiten (Hogwarts Schulbcher) (German Edition).txt\")\n",
    "# story = load_story(\"Die Marchen von Beedle dem Barden\", \"Die Marchen von Beedle dem Barden (Hogwarts Schulbcher) (German Edition).txt\")\n",
    "# story = load_story(\"Hogwarts - Ein unvollständiger und unzuverlässiger Leitfaden\", \"Hogwarts  Ein unvollstndiger und unzuverlssiger Leitfaden (Kindle Single) (Pottermore Presents) (German Edition).txt\")\n",
    "# story = load_story(\"Kurzgeschichten aus Hogwarts  Heldentum, Hrteflle und hanebchene Hobbys\", \"Kurzgeschichten aus Hogwarts  Heldentum, Hrteflle und hanebchene Hobbys (Kindle Single) (Pottermore Presents) (German Edition).txt\")\n",
    "# story = load_story(\"Kurzgeschichten aus Hogwarts  Macht, Politik und nervttende Poltergeister\", \"Kurzgeschichten aus Hogwarts  Macht, Politik und nervttende Poltergeister (Kindle Single) (Pottermore Presents) (German Edition).txt\")\n",
    "# story = load_story(\"Phantastische Tierwesen und wo sie zu finden sind  Das Originaldrehbuch\", \"Phantastische Tierwesen und wo sie zu finden sind  Das Originaldrehbuch (German Edition).txt\")\n",
    "# story = load_story(\"Phantastische Tierwesen und wo sie zu finden sind\", \"Phantastische Tierwesen und wo sie zu finden sind (Hogwarts Schulbcher) (German Edition).txt\")\n",
    "\n",
    "# TODO: Fan-Fictions raussuchen"
   ]
  },
  {
   "cell_type": "code",
   "execution_count": 20,
   "metadata": {},
   "outputs": [
    {
     "ename": "AttributeError",
     "evalue": "'spacy.tokens.span.Span' object has no attribute 'strip'",
     "output_type": "error",
     "traceback": [
      "\u001b[0;31m---------------------------------------------------------------------------\u001b[0m",
      "\u001b[0;31mAttributeError\u001b[0m                            Traceback (most recent call last)",
      "\u001b[1;32m/Users/daniel/projects/harry-potter-sentiment/original-text-analysis.ipynb Zelle 8\u001b[0m in \u001b[0;36m<cell line: 3>\u001b[0;34m()\u001b[0m\n\u001b[1;32m      <a href='vscode-notebook-cell:/Users/daniel/projects/harry-potter-sentiment/original-text-analysis.ipynb#X10sZmlsZQ%3D%3D?line=1'>2</a>\u001b[0m sp \u001b[39m=\u001b[39m spacy\u001b[39m.\u001b[39mload(\u001b[39m\"\u001b[39m\u001b[39mde_dep_news_trf\u001b[39m\u001b[39m\"\u001b[39m)\n\u001b[1;32m      <a href='vscode-notebook-cell:/Users/daniel/projects/harry-potter-sentiment/original-text-analysis.ipynb#X10sZmlsZQ%3D%3D?line=2'>3</a>\u001b[0m \u001b[39mfor\u001b[39;00m s \u001b[39min\u001b[39;00m doc\u001b[39m.\u001b[39msents:\n\u001b[0;32m----> <a href='vscode-notebook-cell:/Users/daniel/projects/harry-potter-sentiment/original-text-analysis.ipynb#X10sZmlsZQ%3D%3D?line=3'>4</a>\u001b[0m \t\u001b[39mprint\u001b[39m(s\u001b[39m.\u001b[39;49mstrip())\n",
      "\u001b[0;31mAttributeError\u001b[0m: 'spacy.tokens.span.Span' object has no attribute 'strip'"
     ]
    }
   ],
   "source": [
    "doc = story.nlp\n",
    "sp = spacy.load(\"de_dep_news_trf\")\n",
    "for s in doc.sents:\n",
    "\tprint(str(s).strip())"
   ]
  }
 ],
 "metadata": {
  "kernelspec": {
   "display_name": "Python 3.10.6 ('harry-potter-sentiment': venv)",
   "language": "python",
   "name": "python3"
  },
  "language_info": {
   "codemirror_mode": {
    "name": "ipython",
    "version": 3
   },
   "file_extension": ".py",
   "mimetype": "text/x-python",
   "name": "python",
   "nbconvert_exporter": "python",
   "pygments_lexer": "ipython3",
   "version": "3.10.6"
  },
  "orig_nbformat": 4,
  "vscode": {
   "interpreter": {
    "hash": "16c53a33719ff22c2bec008acb77bbd55be625e16fd6153a57572ac3899a079a"
   }
  }
 },
 "nbformat": 4,
 "nbformat_minor": 2
}
